{
 "cells": [
  {
   "cell_type": "code",
   "execution_count": 1,
   "metadata": {},
   "outputs": [],
   "source": [
    "import pandas as pd\n",
    "import numpy as np\n",
    "\n",
    "# fuzz is used to compare TWO strings\n",
    "from fuzzywuzzy import fuzz\n",
    "\n",
    "# process is used to compare a string to MULTIPLE other strings\n",
    "from fuzzywuzzy import process"
   ]
  },
  {
   "cell_type": "code",
   "execution_count": 2,
   "metadata": {},
   "outputs": [],
   "source": [
    "pts = pd.read_csv('../data/playlists_tracks.csv')"
   ]
  },
  {
   "cell_type": "code",
   "execution_count": 3,
   "metadata": {
    "scrolled": true
   },
   "outputs": [
    {
     "data": {
      "text/html": [
       "<div>\n",
       "<style scoped>\n",
       "    .dataframe tbody tr th:only-of-type {\n",
       "        vertical-align: middle;\n",
       "    }\n",
       "\n",
       "    .dataframe tbody tr th {\n",
       "        vertical-align: top;\n",
       "    }\n",
       "\n",
       "    .dataframe thead th {\n",
       "        text-align: right;\n",
       "    }\n",
       "</style>\n",
       "<table border=\"1\" class=\"dataframe\">\n",
       "  <thead>\n",
       "    <tr style=\"text-align: right;\">\n",
       "      <th></th>\n",
       "      <th>playlist_id</th>\n",
       "      <th>added_at</th>\n",
       "      <th>added_by_id</th>\n",
       "      <th>isrc</th>\n",
       "      <th>artists</th>\n",
       "      <th>explicit</th>\n",
       "      <th>track_id</th>\n",
       "      <th>name</th>\n",
       "      <th>popularity</th>\n",
       "      <th>preview_url</th>\n",
       "      <th>album_type</th>\n",
       "      <th>album_id</th>\n",
       "      <th>album_name</th>\n",
       "      <th>release_date</th>\n",
       "      <th>playlist_name</th>\n",
       "      <th>description</th>\n",
       "    </tr>\n",
       "  </thead>\n",
       "  <tbody>\n",
       "    <tr>\n",
       "      <th>780694</th>\n",
       "      <td>67IEX5Nrgs7UQFhETcFZtK</td>\n",
       "      <td>2019-05-31T16:48:18Z</td>\n",
       "      <td>thesoundsofspotify</td>\n",
       "      <td>CHAAA1505697</td>\n",
       "      <td>[{'external_urls': {'spotify': 'https://open.s...</td>\n",
       "      <td>False</td>\n",
       "      <td>4E9bXmR0xEsm9wmpEQaCuI</td>\n",
       "      <td>Lost Wisdom - Burzum Cover</td>\n",
       "      <td>1.0</td>\n",
       "      <td>https://p.scdn.co/mp3-preview/d5084cd6ee1c0c1e...</td>\n",
       "      <td>album</td>\n",
       "      <td>6jvoDykrIAcq5p4Bj6dszV</td>\n",
       "      <td>Through the Chaos, Through Time, Through the D...</td>\n",
       "      <td>2015-09-26</td>\n",
       "      <td>Ukrainian Black Metal</td>\n",
       "      <td>See also the Sounds of &lt;a href=\"spotify:playli...</td>\n",
       "    </tr>\n",
       "    <tr>\n",
       "      <th>782803</th>\n",
       "      <td>2sto3QLsWEIB8TLyoVaDbF</td>\n",
       "      <td>2019-01-03T19:58:30Z</td>\n",
       "      <td>thesoundsofspotify</td>\n",
       "      <td>BRTRB1300361</td>\n",
       "      <td>[{'external_urls': {'spotify': 'https://open.s...</td>\n",
       "      <td>False</td>\n",
       "      <td>1tJT4qEWdV7zh8L7gBpg12</td>\n",
       "      <td>Maria Navalha (Cuidado Seu Zé / Malandrinha do...</td>\n",
       "      <td>26.0</td>\n",
       "      <td>https://p.scdn.co/mp3-preview/9f2ae1c2f6b97c76...</td>\n",
       "      <td>album</td>\n",
       "      <td>0mPgTWKh0V3zEwrj8XgGTl</td>\n",
       "      <td>No Clarão da Lua!</td>\n",
       "      <td>2009-05-06</td>\n",
       "      <td>Umbanda</td>\n",
       "      <td>See also &lt;a href=\"spotify:playlist:6H3SzRp3GD3...</td>\n",
       "    </tr>\n",
       "    <tr>\n",
       "      <th>652809</th>\n",
       "      <td>34WeHDUbOzCgLD3ahlQwEN</td>\n",
       "      <td>2020-04-06T16:03:40Z</td>\n",
       "      <td>thesoundsofspotify</td>\n",
       "      <td>US7VG1822985</td>\n",
       "      <td>[{'external_urls': {'spotify': 'https://open.s...</td>\n",
       "      <td>False</td>\n",
       "      <td>42WMypYT6Ds6KzNqPH4NDS</td>\n",
       "      <td>Pássaro Azul</td>\n",
       "      <td>6.0</td>\n",
       "      <td>https://p.scdn.co/mp3-preview/0c944ab11315f220...</td>\n",
       "      <td>album</td>\n",
       "      <td>3QQbaguKMGxZ89aOly0WRS</td>\n",
       "      <td>Asé de Fala</td>\n",
       "      <td>2018-11-01</td>\n",
       "      <td>Rio Grande do Sul Indie</td>\n",
       "      <td>See also &lt;a href=\"spotify:playlist:0wGg1REaeVA...</td>\n",
       "    </tr>\n",
       "    <tr>\n",
       "      <th>463523</th>\n",
       "      <td>7J9GDUnv2JMOvNK6xCKCE1</td>\n",
       "      <td>2019-08-04T16:31:31Z</td>\n",
       "      <td>thesoundsofspotify</td>\n",
       "      <td>GBBMP0900532</td>\n",
       "      <td>[{'external_urls': {'spotify': 'https://open.s...</td>\n",
       "      <td>False</td>\n",
       "      <td>5RNGOlGqKBawkqLfdJqiqA</td>\n",
       "      <td>Nothing Is Something Worth Doing</td>\n",
       "      <td>45.0</td>\n",
       "      <td>https://p.scdn.co/mp3-preview/b3aa4fab063bf85c...</td>\n",
       "      <td>album</td>\n",
       "      <td>6kXYzl5HwGgFxsX1M8aTKp</td>\n",
       "      <td>Ineffable Mysteries From Shpongleland</td>\n",
       "      <td>2009-10-28</td>\n",
       "      <td>Livetronica</td>\n",
       "      <td>See also &lt;a href=\"spotify:playlist:0K6tUy2gBM0...</td>\n",
       "    </tr>\n",
       "    <tr>\n",
       "      <th>666676</th>\n",
       "      <td>0Evf0zY8yZLBDOXJCLERQi</td>\n",
       "      <td>2020-04-06T16:05:15Z</td>\n",
       "      <td>thesoundsofspotify</td>\n",
       "      <td>GBLFP1839292</td>\n",
       "      <td>[{'external_urls': {'spotify': 'https://open.s...</td>\n",
       "      <td>False</td>\n",
       "      <td>2daW71kpe9FbscotDk7iPU</td>\n",
       "      <td>El Matrimonio</td>\n",
       "      <td>41.0</td>\n",
       "      <td>https://p.scdn.co/mp3-preview/1625d3d770c7cc91...</td>\n",
       "      <td>single</td>\n",
       "      <td>0XUHEHh9LTiItSuxg188p0</td>\n",
       "      <td>El Matrimonio</td>\n",
       "      <td>2018-04-27</td>\n",
       "      <td>Salsa Choke</td>\n",
       "      <td>See also &lt;a href=\"spotify:playlist:1NMpw1xIPYJ...</td>\n",
       "    </tr>\n",
       "    <tr>\n",
       "      <th>685586</th>\n",
       "      <td>2aKMOs9FxzuCX6kdylLX94</td>\n",
       "      <td>2020-01-24T18:00:23Z</td>\n",
       "      <td>thesoundsofspotify</td>\n",
       "      <td>ushm80821954</td>\n",
       "      <td>[{'external_urls': {'spotify': 'https://open.s...</td>\n",
       "      <td>False</td>\n",
       "      <td>4fqo4oqNE574otPyqOBG2H</td>\n",
       "      <td>I Was Busted</td>\n",
       "      <td>21.0</td>\n",
       "      <td>https://p.scdn.co/mp3-preview/e3493a215affd006...</td>\n",
       "      <td>album</td>\n",
       "      <td>53UuY45mRY4a32kiBUGkYi</td>\n",
       "      <td>The Skinheads Dem A Come</td>\n",
       "      <td>2008-09-10</td>\n",
       "      <td>Ska</td>\n",
       "      <td>See also &lt;a href=\"spotify:playlist:6hbqqwOsb06...</td>\n",
       "    </tr>\n",
       "    <tr>\n",
       "      <th>692998</th>\n",
       "      <td>0qxI6lRUwws4qXyriYiINB</td>\n",
       "      <td>2016-03-31T18:39:25Z</td>\n",
       "      <td>thesoundsofspotify</td>\n",
       "      <td>TCACA1419878</td>\n",
       "      <td>[{'external_urls': {'spotify': 'https://open.s...</td>\n",
       "      <td>False</td>\n",
       "      <td>7lkGmr7Pd72rgG57AoYvtT</td>\n",
       "      <td>Wanna Try</td>\n",
       "      <td>30.0</td>\n",
       "      <td>https://p.scdn.co/mp3-preview/ed5bf6145deb44ad...</td>\n",
       "      <td>single</td>\n",
       "      <td>1W7IMS6klvF0HNb0vO3MWm</td>\n",
       "      <td>Wanna Try</td>\n",
       "      <td>2014-10-14</td>\n",
       "      <td>Slow Game</td>\n",
       "      <td>See also &lt;a href=\"spotify:playlist:01WqT4JhpTr...</td>\n",
       "    </tr>\n",
       "    <tr>\n",
       "      <th>370271</th>\n",
       "      <td>4j8LWu769e0bze06dcZV7W</td>\n",
       "      <td>2020-03-27T17:51:03Z</td>\n",
       "      <td>thesoundsofspotify</td>\n",
       "      <td>FRZ131914030</td>\n",
       "      <td>[{'external_urls': {'spotify': 'https://open.s...</td>\n",
       "      <td>False</td>\n",
       "      <td>7v1V4ZTjZP03LgesiDfJbi</td>\n",
       "      <td>Violin Concerto in C Major, RV 187: III. Allegro</td>\n",
       "      <td>24.0</td>\n",
       "      <td>https://p.scdn.co/mp3-preview/d6e13cf7bfc89d3b...</td>\n",
       "      <td>album</td>\n",
       "      <td>4mIXKH9qHdE7yph4gxsHod</td>\n",
       "      <td>VIVALDI Concerti per violino VIII \"Il teatro\"</td>\n",
       "      <td>2020-02-21</td>\n",
       "      <td>Historically Informed Performance</td>\n",
       "      <td>See also &lt;a href=\"spotify:playlist:3qYPaO9x47Z...</td>\n",
       "    </tr>\n",
       "    <tr>\n",
       "      <th>18524</th>\n",
       "      <td>0Hwb2a9DJdom4yoe5V41K9</td>\n",
       "      <td>2020-01-24T17:18:53Z</td>\n",
       "      <td>thesoundsofspotify</td>\n",
       "      <td>QM24S2000002</td>\n",
       "      <td>[{'external_urls': {'spotify': 'https://open.s...</td>\n",
       "      <td>True</td>\n",
       "      <td>1rMGsPcELyYLwm87GNHFai</td>\n",
       "      <td>God Nem (Remix)</td>\n",
       "      <td>39.0</td>\n",
       "      <td>https://p.scdn.co/mp3-preview/0ad1f5908d24a1e6...</td>\n",
       "      <td>single</td>\n",
       "      <td>6VWW06nIJ6AGHcHmn9i1Xr</td>\n",
       "      <td>God Nem (Remix)</td>\n",
       "      <td>2020-01-13</td>\n",
       "      <td>Alternative R&amp;B</td>\n",
       "      <td>See also &lt;a href=\"spotify:playlist:7JKehYszt7i...</td>\n",
       "    </tr>\n",
       "    <tr>\n",
       "      <th>609074</th>\n",
       "      <td>0m55vLjsDe1eh1MjdPufNH</td>\n",
       "      <td>2015-06-02T16:22:14Z</td>\n",
       "      <td>thesoundsofspotify</td>\n",
       "      <td>TCACC1489365</td>\n",
       "      <td>[{'external_urls': {'spotify': 'https://open.s...</td>\n",
       "      <td>True</td>\n",
       "      <td>14Ap252tBaZpjlUD17Uf2r</td>\n",
       "      <td>Gtfo My Way</td>\n",
       "      <td>25.0</td>\n",
       "      <td>https://p.scdn.co/mp3-preview/b272465c9b67c3f3...</td>\n",
       "      <td>single</td>\n",
       "      <td>74QAdnP8h1IBjw1jVzLvAS</td>\n",
       "      <td>The Tactician</td>\n",
       "      <td>2014-12-21</td>\n",
       "      <td>Post-Post-Hardcore</td>\n",
       "      <td>See also &lt;a href=\"spotify:playlist:4rdpveN5pDv...</td>\n",
       "    </tr>\n",
       "  </tbody>\n",
       "</table>\n",
       "</div>"
      ],
      "text/plain": [
       "                   playlist_id              added_at         added_by_id  \\\n",
       "780694  67IEX5Nrgs7UQFhETcFZtK  2019-05-31T16:48:18Z  thesoundsofspotify   \n",
       "782803  2sto3QLsWEIB8TLyoVaDbF  2019-01-03T19:58:30Z  thesoundsofspotify   \n",
       "652809  34WeHDUbOzCgLD3ahlQwEN  2020-04-06T16:03:40Z  thesoundsofspotify   \n",
       "463523  7J9GDUnv2JMOvNK6xCKCE1  2019-08-04T16:31:31Z  thesoundsofspotify   \n",
       "666676  0Evf0zY8yZLBDOXJCLERQi  2020-04-06T16:05:15Z  thesoundsofspotify   \n",
       "685586  2aKMOs9FxzuCX6kdylLX94  2020-01-24T18:00:23Z  thesoundsofspotify   \n",
       "692998  0qxI6lRUwws4qXyriYiINB  2016-03-31T18:39:25Z  thesoundsofspotify   \n",
       "370271  4j8LWu769e0bze06dcZV7W  2020-03-27T17:51:03Z  thesoundsofspotify   \n",
       "18524   0Hwb2a9DJdom4yoe5V41K9  2020-01-24T17:18:53Z  thesoundsofspotify   \n",
       "609074  0m55vLjsDe1eh1MjdPufNH  2015-06-02T16:22:14Z  thesoundsofspotify   \n",
       "\n",
       "                isrc                                            artists  \\\n",
       "780694  CHAAA1505697  [{'external_urls': {'spotify': 'https://open.s...   \n",
       "782803  BRTRB1300361  [{'external_urls': {'spotify': 'https://open.s...   \n",
       "652809  US7VG1822985  [{'external_urls': {'spotify': 'https://open.s...   \n",
       "463523  GBBMP0900532  [{'external_urls': {'spotify': 'https://open.s...   \n",
       "666676  GBLFP1839292  [{'external_urls': {'spotify': 'https://open.s...   \n",
       "685586  ushm80821954  [{'external_urls': {'spotify': 'https://open.s...   \n",
       "692998  TCACA1419878  [{'external_urls': {'spotify': 'https://open.s...   \n",
       "370271  FRZ131914030  [{'external_urls': {'spotify': 'https://open.s...   \n",
       "18524   QM24S2000002  [{'external_urls': {'spotify': 'https://open.s...   \n",
       "609074  TCACC1489365  [{'external_urls': {'spotify': 'https://open.s...   \n",
       "\n",
       "       explicit                track_id  \\\n",
       "780694    False  4E9bXmR0xEsm9wmpEQaCuI   \n",
       "782803    False  1tJT4qEWdV7zh8L7gBpg12   \n",
       "652809    False  42WMypYT6Ds6KzNqPH4NDS   \n",
       "463523    False  5RNGOlGqKBawkqLfdJqiqA   \n",
       "666676    False  2daW71kpe9FbscotDk7iPU   \n",
       "685586    False  4fqo4oqNE574otPyqOBG2H   \n",
       "692998    False  7lkGmr7Pd72rgG57AoYvtT   \n",
       "370271    False  7v1V4ZTjZP03LgesiDfJbi   \n",
       "18524      True  1rMGsPcELyYLwm87GNHFai   \n",
       "609074     True  14Ap252tBaZpjlUD17Uf2r   \n",
       "\n",
       "                                                     name  popularity  \\\n",
       "780694                         Lost Wisdom - Burzum Cover         1.0   \n",
       "782803  Maria Navalha (Cuidado Seu Zé / Malandrinha do...        26.0   \n",
       "652809                                       Pássaro Azul         6.0   \n",
       "463523                   Nothing Is Something Worth Doing        45.0   \n",
       "666676                                      El Matrimonio        41.0   \n",
       "685586                                       I Was Busted        21.0   \n",
       "692998                                          Wanna Try        30.0   \n",
       "370271   Violin Concerto in C Major, RV 187: III. Allegro        24.0   \n",
       "18524                                     God Nem (Remix)        39.0   \n",
       "609074                                        Gtfo My Way        25.0   \n",
       "\n",
       "                                              preview_url album_type  \\\n",
       "780694  https://p.scdn.co/mp3-preview/d5084cd6ee1c0c1e...      album   \n",
       "782803  https://p.scdn.co/mp3-preview/9f2ae1c2f6b97c76...      album   \n",
       "652809  https://p.scdn.co/mp3-preview/0c944ab11315f220...      album   \n",
       "463523  https://p.scdn.co/mp3-preview/b3aa4fab063bf85c...      album   \n",
       "666676  https://p.scdn.co/mp3-preview/1625d3d770c7cc91...     single   \n",
       "685586  https://p.scdn.co/mp3-preview/e3493a215affd006...      album   \n",
       "692998  https://p.scdn.co/mp3-preview/ed5bf6145deb44ad...     single   \n",
       "370271  https://p.scdn.co/mp3-preview/d6e13cf7bfc89d3b...      album   \n",
       "18524   https://p.scdn.co/mp3-preview/0ad1f5908d24a1e6...     single   \n",
       "609074  https://p.scdn.co/mp3-preview/b272465c9b67c3f3...     single   \n",
       "\n",
       "                      album_id  \\\n",
       "780694  6jvoDykrIAcq5p4Bj6dszV   \n",
       "782803  0mPgTWKh0V3zEwrj8XgGTl   \n",
       "652809  3QQbaguKMGxZ89aOly0WRS   \n",
       "463523  6kXYzl5HwGgFxsX1M8aTKp   \n",
       "666676  0XUHEHh9LTiItSuxg188p0   \n",
       "685586  53UuY45mRY4a32kiBUGkYi   \n",
       "692998  1W7IMS6klvF0HNb0vO3MWm   \n",
       "370271  4mIXKH9qHdE7yph4gxsHod   \n",
       "18524   6VWW06nIJ6AGHcHmn9i1Xr   \n",
       "609074  74QAdnP8h1IBjw1jVzLvAS   \n",
       "\n",
       "                                               album_name release_date  \\\n",
       "780694  Through the Chaos, Through Time, Through the D...   2015-09-26   \n",
       "782803                                  No Clarão da Lua!   2009-05-06   \n",
       "652809                                        Asé de Fala   2018-11-01   \n",
       "463523              Ineffable Mysteries From Shpongleland   2009-10-28   \n",
       "666676                                      El Matrimonio   2018-04-27   \n",
       "685586                           The Skinheads Dem A Come   2008-09-10   \n",
       "692998                                          Wanna Try   2014-10-14   \n",
       "370271      VIVALDI Concerti per violino VIII \"Il teatro\"   2020-02-21   \n",
       "18524                                     God Nem (Remix)   2020-01-13   \n",
       "609074                                      The Tactician   2014-12-21   \n",
       "\n",
       "                             playlist_name  \\\n",
       "780694               Ukrainian Black Metal   \n",
       "782803                             Umbanda   \n",
       "652809             Rio Grande do Sul Indie   \n",
       "463523                         Livetronica   \n",
       "666676                         Salsa Choke   \n",
       "685586                                 Ska   \n",
       "692998                           Slow Game   \n",
       "370271   Historically Informed Performance   \n",
       "18524                      Alternative R&B   \n",
       "609074                  Post-Post-Hardcore   \n",
       "\n",
       "                                              description  \n",
       "780694  See also the Sounds of <a href=\"spotify:playli...  \n",
       "782803  See also <a href=\"spotify:playlist:6H3SzRp3GD3...  \n",
       "652809  See also <a href=\"spotify:playlist:0wGg1REaeVA...  \n",
       "463523  See also <a href=\"spotify:playlist:0K6tUy2gBM0...  \n",
       "666676  See also <a href=\"spotify:playlist:1NMpw1xIPYJ...  \n",
       "685586  See also <a href=\"spotify:playlist:6hbqqwOsb06...  \n",
       "692998  See also <a href=\"spotify:playlist:01WqT4JhpTr...  \n",
       "370271  See also <a href=\"spotify:playlist:3qYPaO9x47Z...  \n",
       "18524   See also <a href=\"spotify:playlist:7JKehYszt7i...  \n",
       "609074  See also <a href=\"spotify:playlist:4rdpveN5pDv...  "
      ]
     },
     "execution_count": 3,
     "metadata": {},
     "output_type": "execute_result"
    }
   ],
   "source": [
    "pts.sample(n=10)"
   ]
  },
  {
   "cell_type": "code",
   "execution_count": 4,
   "metadata": {},
   "outputs": [
    {
     "data": {
      "text/plain": [
       " Rock                 1173\n",
       " Dance Pop            1135\n",
       " Pop                  1126\n",
       " Electro House        1004\n",
       " Indie Folk            994\n",
       "                      ... \n",
       " Congo (Kinshasa)       37\n",
       " Spanish Classical      32\n",
       " Animal Singing         27\n",
       " Saint-Martin           11\n",
       " Saint Lucia             5\n",
       "Name: playlist_name, Length: 3602, dtype: int64"
      ]
     },
     "execution_count": 4,
     "metadata": {},
     "output_type": "execute_result"
    }
   ],
   "source": [
    "pts.playlist_name.value_counts()"
   ]
  },
  {
   "cell_type": "code",
   "execution_count": 5,
   "metadata": {},
   "outputs": [
    {
     "data": {
      "text/plain": [
       "(822081, 16)"
      ]
     },
     "execution_count": 5,
     "metadata": {},
     "output_type": "execute_result"
    }
   ],
   "source": [
    "pts.shape"
   ]
  },
  {
   "cell_type": "code",
   "execution_count": 6,
   "metadata": {},
   "outputs": [
    {
     "data": {
      "text/plain": [
       "track_id\n",
       "0001Wtl60puR26ZtSDIF66    1\n",
       "0006ylYpVNXBQIVMe8geYq    1\n",
       "000A6NeXllTYLj5YPwmjvB    1\n",
       "000NlfzLnOP88OsQiD5fGo    1\n",
       "000QWvZpHrBIVrW4dGbaVI    1\n",
       "                         ..\n",
       "7zzYmYrt16PNK0ukHCZdkV    2\n",
       "7zzbd4y23NEiZkeTtMNV7t    1\n",
       "7zzbfi8fvHe6hm342GcNYl    3\n",
       "7zzrSxLP3uZNwRxADYw7CY    1\n",
       "7zztk8Ecg9qDRLX3XNfSyq    3\n",
       "Name: playlist_name, Length: 572500, dtype: int64"
      ]
     },
     "execution_count": 6,
     "metadata": {},
     "output_type": "execute_result"
    }
   ],
   "source": [
    "pts.groupby('track_id').playlist_name.nunique()"
   ]
  },
  {
   "cell_type": "code",
   "execution_count": 7,
   "metadata": {},
   "outputs": [
    {
     "data": {
      "text/plain": [
       "3602"
      ]
     },
     "execution_count": 7,
     "metadata": {},
     "output_type": "execute_result"
    }
   ],
   "source": [
    "# 3602 unique genres\n",
    "pts.playlist_name.nunique()"
   ]
  },
  {
   "cell_type": "code",
   "execution_count": 8,
   "metadata": {},
   "outputs": [
    {
     "data": {
      "text/plain": [
       "array([' 21st Century Classical', ' 432Hz', ' 8-Bit', ' A Cappella',\n",
       "       ' Aarhus Indie'], dtype=object)"
      ]
     },
     "execution_count": 8,
     "metadata": {},
     "output_type": "execute_result"
    }
   ],
   "source": [
    "# construct \"genre-superclusters\" based on MusicMap.info super-genres\n",
    "# 1) get a list of all unique genres\n",
    "genres = pts.playlist_name.unique()\n",
    "genres[:5]"
   ]
  },
  {
   "cell_type": "code",
   "execution_count": 13,
   "metadata": {},
   "outputs": [],
   "source": [
    "# from scripts.config import SPOTIPY_CLIENTS, SPOTIPY_CREDS, SPOTIPY_REQUESTS_TIMEOUT  # noqa\n",
    "from scripts.utils import SpotipyMux\n",
    "from tqdm.notebook import tqdm, tnrange, trange\n",
    "from pprint import pprint"
   ]
  },
  {
   "cell_type": "code",
   "execution_count": 10,
   "metadata": {},
   "outputs": [
    {
     "name": "stdout",
     "output_type": "stream",
     "text": [
      "CPU times: user 65 ms, sys: 285 µs, total: 65.3 ms\n",
      "Wall time: 64.3 ms\n"
     ]
    },
    {
     "data": {
      "text/plain": [
       "[(' 21st Century Classical', 100),\n",
       " (' American Contemporary Classical', 100),\n",
       " (' American Modern Classical', 100),\n",
       " (' American 21st Century Classical', 100),\n",
       " (' Andalusian Classical', 100),\n",
       " (' Baltic Classical', 100),\n",
       " (' Belgian Contemporary Classical', 100),\n",
       " (' British Contemporary Classical', 100),\n",
       " (' British Modern Classical', 100),\n",
       " (' Canadian Classical', 100),\n",
       " (' Chinese Classical', 100),\n",
       " (' Chinese Classical Performance', 100),\n",
       " (' Classical', 100),\n",
       " (' Classical Accordion', 100),\n",
       " (' Classical Baritone', 100),\n",
       " (' Classical Bass', 100),\n",
       " (' Classical Bassoon', 100),\n",
       " (' Classical Cello', 100),\n",
       " (' Classical Clarinet', 100),\n",
       " (' Classical Contralto', 100),\n",
       " (' Classical Countertenor', 100),\n",
       " (' Classical Era', 100),\n",
       " (' Classical Flute', 100),\n",
       " (' Classical Guitar', 100),\n",
       " (' Classical Guitar Duo', 100),\n",
       " (' Classical Guitar Quartet', 100),\n",
       " (' Classical Harp', 100),\n",
       " (' Classical Horn', 100),\n",
       " (' Classical Mandolin', 100),\n",
       " (' Classical Mezzo-Soprano', 100),\n",
       " (' Classical Oboe', 100),\n",
       " (' Classical Organ', 100),\n",
       " (' Classical Percussion', 100),\n",
       " (' Classical Performance', 100),\n",
       " (' Classical Piano', 100),\n",
       " (' Classical Piano Duo', 100),\n",
       " (' Classical Piano Trio', 100),\n",
       " (' Classical Saxophone', 100),\n",
       " (' Classical Saxophone Quartet', 100),\n",
       " (' Classical Soprano', 100),\n",
       " (' Classical String Trio', 100),\n",
       " (' Classical Tenor', 100),\n",
       " (' Classical Trombone', 100),\n",
       " (' Classical Trumpet', 100),\n",
       " (' Classical Tuba', 100),\n",
       " (' Contemporary Classical', 100),\n",
       " (' Contemporary Classical Piano', 100),\n",
       " (' Czech Contemporary Classical', 100),\n",
       " (' Danish Classical', 100),\n",
       " (' Danish Contemporary Classical', 100),\n",
       " (' Dutch Contemporary Classical', 100),\n",
       " (' Early Modern Classical', 100),\n",
       " (' Finnish Classical', 100),\n",
       " (' French Contemporary Classical', 100),\n",
       " (' German Contemporary Classical', 100),\n",
       " (' Greek Contemporary Classical', 100),\n",
       " (' Hindustani Classical', 100),\n",
       " (' Historic Classical Performance', 100),\n",
       " (' Hungarian Contemporary Classical', 100),\n",
       " (' Irish Classical', 100),\n",
       " (' Irish Contemporary Classical', 100),\n",
       " (' Italian Contemporary Classical', 100),\n",
       " (' Korean Classical Performance', 100),\n",
       " (' Korean Contemporary Classical', 100),\n",
       " (' Latin Classical', 100),\n",
       " (' Mexican Classical', 100),\n",
       " (' Neo Classical Metal', 100),\n",
       " (' Neo-Classical', 100),\n",
       " (' Nordic Contemporary Classical', 100),\n",
       " (' Norwegian Classical', 100),\n",
       " (' Oriental Classical', 100),\n",
       " (' Polish Classical', 100),\n",
       " (' Polish Contemporary Classical', 100),\n",
       " (' Portuguese Contemporary Classical', 100),\n",
       " (' Spanish Classical', 100),\n",
       " (' Spanish Contemporary Classical', 100),\n",
       " (' Swedish Classical', 100),\n",
       " (' Swedish Contemporary Classical', 100),\n",
       " (' Swiss Contemporary Classical', 100),\n",
       " (' Turkish Classical', 100),\n",
       " (' Ukrainian Classical', 100),\n",
       " (' Vintage Classical Singing', 100),\n",
       " (' Neoclassical', 86),\n",
       " (' Classic Soul', 76),\n",
       " (' Classify', 71),\n",
       " (' Classic Iskelmä', 70),\n",
       " (' Classic Praise', 70),\n",
       " (' Classic Rock', 67),\n",
       " (' Classic Italian Pop', 64),\n",
       " (' Classic Mandopop', 64),\n",
       " (' Classic Schlager', 64),\n",
       " (' Classic Sinhala Pop', 64),\n",
       " (' Classic Thai Pop', 64),\n",
       " (' Musica Calabrese', 64),\n",
       " (' Classic Luk Thung', 62),\n",
       " (' Classic J-Rock', 61),\n",
       " (' Classic UK Pop', 61),\n",
       " (' Basshall', 59),\n",
       " (' Classic Danish Pop', 59),\n",
       " (' Classic Girl Group', 59),\n",
       " (' Classic Polish Pop', 59),\n",
       " (' Classic Soundtrack', 59),\n",
       " (' Circassian Folk', 58),\n",
       " (' Celtic Metal', 57),\n",
       " (' Classic Garage Rock', 57),\n",
       " (' Classic Persian Pop', 57),\n",
       " (' Glass', 57),\n",
       " (' Italian Bass', 57),\n",
       " (' Blasmusik', 56),\n",
       " (' Classic Afrobeat', 56),\n",
       " (' Classic Arab Pop', 56),\n",
       " (' Classic Cantopop', 56),\n",
       " (' Classic Indo Pop', 56),\n",
       " (' Musical Advocacy', 56),\n",
       " (' Aussietronica', 55),\n",
       " (' Classic Italian Folk Pop', 55),\n",
       " (' Classic Moroccan Pop', 55),\n",
       " (' Corsican Folk', 55),\n",
       " (' Dutch Musical', 55),\n",
       " (' Mexican Classic Rock', 55),\n",
       " (' Musica Etnica', 55),\n",
       " (' Música Canaria', 55),\n",
       " (' Música Llanera', 55),\n",
       " (' Classic Bollywood', 54),\n",
       " (' Classic Czech Pop', 54),\n",
       " (' Classic Dutch Pop', 54),\n",
       " (' Classic Greek Pop', 54),\n",
       " (' Bass Music', 53),\n",
       " (' Celtic', 53),\n",
       " (' Chicha', 53),\n",
       " (' Classic Norwegian Pop', 53),\n",
       " (' Miami Bass', 53),\n",
       " (' Carnatic Vocal', 52),\n",
       " (' Caucasian Folk', 52),\n",
       " (' Classic Eurovision', 52),\n",
       " (' Classic French Pop', 52),\n",
       " (' Classic Greek Rock', 52),\n",
       " (' Cosmic Black Metal', 52),\n",
       " (' Black Metal', 50),\n",
       " (' Blaskapelle', 50),\n",
       " (' Celtic Harp', 50),\n",
       " (' Classic Belgian Pop', 50),\n",
       " (' Classic Country Pop', 50),\n",
       " (' Classic Finnish Pop', 50),\n",
       " (' Classic Swedish Pop', 50),\n",
       " (' Classic Turkish Pop', 50),\n",
       " (' Comic Metal', 50),\n",
       " (' Guitar Case', 50),\n",
       " (' Italo Beats', 50),\n",
       " (' Judaica', 50),\n",
       " (' Latin Metal', 50),\n",
       " (' Makossa', 50),\n",
       " (' Massage', 50),\n",
       " (' Musica Lombarda', 50),\n",
       " (' Música Jíbara', 50),\n",
       " (' Músicas Infantis', 50),\n",
       " (' Sinhala Rap', 50),\n",
       " (' Assyrian Pop', 48),\n",
       " (' Aussie Drill', 48),\n",
       " (' Ballet Class', 48),\n",
       " (' Chicago Soul', 48),\n",
       " (' Classic Candian Rock', 48),\n",
       " (' Classic Finnish Rock', 48),\n",
       " (' Classic Psychedelic Rock', 48),\n",
       " (' Deep Classic Garage Rock', 48),\n",
       " (' Funk Carioca', 48),\n",
       " (' Latintronica', 48),\n",
       " (' Música Infantil Català', 48),\n",
       " (' Balearic', 47),\n",
       " (' Bassline', 47),\n",
       " (' Cali Rap', 47),\n",
       " (' Capoeira', 47),\n",
       " (' Carnatic', 47),\n",
       " (' Carnaval', 47),\n",
       " (' Cimbalom', 47),\n",
       " (' Fussball', 47),\n",
       " (' Monastic', 47),\n",
       " (' Traditional Bluegrass', 47),\n",
       " (' Tropical', 47),\n",
       " (' Experimental Bass', 46),\n",
       " (' Musica Ayacuchana', 46),\n",
       " (' Música Mallorquina', 46),\n",
       " (' Música Prehispánica', 46),\n",
       " (' Nica', 46),\n",
       " (' Soca', 46),\n",
       " (' African Metal', 45),\n",
       " (' Belfast Metal', 45),\n",
       " (' Canadian Folk', 45),\n",
       " (' Chicago Blues', 45),\n",
       " (' Chicago Drill', 45),\n",
       " (' Classic Portuguese Pop', 45),\n",
       " (' Depressive Black Metal', 45),\n",
       " (' Electric Bass', 45),\n",
       " (' Final Fantasy', 45),\n",
       " (' Galician Folk', 45),\n",
       " (' Indiecoustica', 45),\n",
       " (' Instrumental Bluegrass', 45),\n",
       " (' Italian Blues', 45),\n",
       " (' Jazz Clarinet', 45),\n",
       " (' Library Music', 45)]"
      ]
     },
     "execution_count": 10,
     "metadata": {},
     "output_type": "execute_result"
    }
   ],
   "source": [
    "%%time\n",
    "\n",
    "# use fuzzy-word matching to find \"genre-superclusters\"\n",
    "process.extract(\"Classical\", genres, limit=200, scorer=fuzz.token_set_ratio)\n"
   ]
  },
  {
   "cell_type": "code",
   "execution_count": 16,
   "metadata": {
    "scrolled": true
   },
   "outputs": [
    {
     "data": {
      "application/vnd.jupyter.widget-view+json": {
       "model_id": "5b5f8e31bd7a40e6b7bd1a760aa302c2",
       "version_major": 2,
       "version_minor": 0
      },
      "text/plain": [
       "HBox(children=(FloatProgress(value=0.0, max=11451.0), HTML(value='')))"
      ]
     },
     "metadata": {},
     "output_type": "display_data"
    },
    {
     "name": "stdout",
     "output_type": "stream",
     "text": [
      "ERROR: 'float' object has no attribute 'split'\n",
      "ERROR: 'NoneType' object has no attribute 'get'\n",
      "retrying after...1secs\n",
      "ERROR: 'NoneType' object has no attribute 'get'\n",
      "ERROR: 'NoneType' object has no attribute 'get'\n",
      "retrying after...1secs\n",
      "retrying after...1secs\n",
      "retrying after...1secs\n",
      "retrying after...1secs\n",
      "retrying after...1secs\n",
      "retrying after...1secs\n",
      "retrying after...1secs\n",
      "ERROR: 'NoneType' object has no attribute 'get'\n",
      "ERROR: 'NoneType' object has no attribute 'get'\n",
      "ERROR: 'NoneType' object has no attribute 'get'\n",
      "ERROR: 'NoneType' object has no attribute 'get'\n",
      "ERROR: 'NoneType' object has no attribute 'get'\n",
      "ERROR: 'NoneType' object has no attribute 'get'\n",
      "ERROR: 'NoneType' object has no attribute 'get'\n",
      "ERROR: 'NoneType' object has no attribute 'get'\n",
      "\n"
     ]
    }
   ],
   "source": [
    "import spotipy\n",
    "# collect \n",
    "spm = SpotipyMux(0)\n",
    "track_ids = pts.track_id.unique()\n",
    "audio_features = []\n",
    "\n",
    "# Loop through track_ids list to collect audio feautres pertaining to\n",
    "# each track. Normally, we would loop through the passed in tracks list and\n",
    "# update each track's dictionaries with the assocaited audio features\n",
    "# metadata. But, this would require making a single API request for each\n",
    "# track, making our function much slower. A more efficient way is to\n",
    "# include multiple track ids in each api request. But, this requires us to\n",
    "# merge the audio features metadata with the tracks metadata. Thus, we\n",
    "# create a list of track ids and a list to store the audio features\n",
    "# pertaining to the track id.\n",
    "for start in tqdm(range(0, len(track_ids), 50)):\n",
    "    end = start + 50 if (start + 50) < len(track_ids) else None\n",
    "    try:\n",
    "        # request audio features from Spotify API\n",
    "        raw_audio_features = spm.client().audio_features(track_ids[start:end])\n",
    "        # format metadata for database\n",
    "        for track in raw_audio_features:\n",
    "            track = {\n",
    "                \"danceability\": track.get(\"danceability\", None),\n",
    "                \"energy\": track.get(\"energy\", None),\n",
    "                \"key\": track.get(\"key\", None),\n",
    "                \"loudness\": track.get(\"loudness\", None),\n",
    "                \"mode\": track.get(\"mode\", None),\n",
    "                \"speechiness\": track.get(\"speechiness\", None),\n",
    "                \"acousticness\": track.get(\"acousticness\", None),\n",
    "                \"instrumentalness\": track.get(\"instrumentalness\", None),\n",
    "                \"liveness\": track.get(\"liveness\", None),\n",
    "                \"valence\": track.get(\"valence\", None),\n",
    "                \"tempo\": track.get(\"tempo\", None),\n",
    "                \"track_id\": track.get(\"id\", None),\n",
    "                \"time_signature\": track.get(\"time_signature\", None),\n",
    "            }\n",
    "            audio_features.append(track)\n",
    "    except spotipy.client.SpotifyException as e:\n",
    "        print(f\"Spotify ERROR: {e}\")\n",
    "    except Exception as e:\n",
    "        print(f\"ERROR: {e}\")"
   ]
  },
  {
   "cell_type": "code",
   "execution_count": 41,
   "metadata": {},
   "outputs": [],
   "source": [
    "def get_audio_features(track_ids):\n",
    "    \"\"\"Collects Spotify audio features for a set of track\n",
    "    \n",
    "    Args:\n",
    "        track_ids (list): A list of Spotify track ids. The list size should be \n",
    "            less than 50.\n",
    "    \n",
    "    Returns:\n",
    "        audio_feats (list): A list of audio features dictionaries \n",
    "    \"\"\"\n",
    "    spm = SpotipyMux(np.random.randint(0,100))\n",
    "    \n",
    "    audio_feats = []\n",
    "    try:\n",
    "        # request audio features from Spotify API\n",
    "        raw_audio_features = spm.client().audio_features(track_ids)\n",
    "        # format metadata for database\n",
    "        for track in raw_audio_features:\n",
    "            track = {\n",
    "                \"danceability\": track.get(\"danceability\", None),\n",
    "                \"energy\": track.get(\"energy\", None),\n",
    "                \"key\": track.get(\"key\", None),\n",
    "                \"loudness\": track.get(\"loudness\", None),\n",
    "                \"mode\": track.get(\"mode\", None),\n",
    "                \"speechiness\": track.get(\"speechiness\", None),\n",
    "                \"acousticness\": track.get(\"acousticness\", None),\n",
    "                \"instrumentalness\": track.get(\"instrumentalness\", None),\n",
    "                \"liveness\": track.get(\"liveness\", None),\n",
    "                \"valence\": track.get(\"valence\", None),\n",
    "                \"tempo\": track.get(\"tempo\", None),\n",
    "                \"track_id\": track.get(\"id\", None),\n",
    "                \"time_signature\": track.get(\"time_signature\", None),\n",
    "            }\n",
    "            audio_features.append(track)\n",
    "    except Exception as e:\n",
    "        print(f\"ERROR: {e}\")\n",
    "        \n",
    "    return audio_feats"
   ]
  },
  {
   "cell_type": "code",
   "execution_count": 42,
   "metadata": {},
   "outputs": [],
   "source": [
    "track_ids = pts.track_id.unique()\n",
    "spm = SpotipyMux(0)\n",
    "\n",
    "chunked_ids = chunkify(track_ids, chunk_size=50)"
   ]
  },
  {
   "cell_type": "code",
   "execution_count": 43,
   "metadata": {},
   "outputs": [
    {
     "name": "stdout",
     "output_type": "stream",
     "text": [
      "retrying after...8secs\n",
      "retrying after...8secs\n",
      "retrying after...8secs\n"
     ]
    },
    {
     "data": {
      "application/vnd.jupyter.widget-view+json": {
       "model_id": "abaf8b425dee466db721744792c1b085",
       "version_major": 2,
       "version_minor": 0
      },
      "text/plain": [
       "HBox(children=(FloatProgress(value=0.0, max=11451.0), HTML(value='')))"
      ]
     },
     "metadata": {},
     "output_type": "display_data"
    },
    {
     "name": "stdout",
     "output_type": "stream",
     "text": [
      "retrying after...8secsretrying after...8secs\n",
      "\n",
      "retrying after...8secs\n",
      "retrying after...8secs\n",
      "retrying after...8secs\n",
      "retrying after...8secs\n",
      "retrying after...8secsretrying after...8secs\n",
      "\n",
      "retrying after...8secs\n",
      "retrying after...8secsretrying after...8secs\n",
      "\n",
      "retrying after...8secs\n",
      "retrying after...8secs\n",
      "retrying after...8secs\n",
      "retrying after...8secs\n",
      "retrying after...8secs\n",
      "retrying after...8secs\n",
      "retrying after...8secsretrying after...8secs\n",
      "\n",
      "retrying after...8secs\n",
      "retrying after...8secsretrying after...8secs\n",
      "retrying after...8secs\n",
      "\n",
      "retrying after...8secs\n",
      "retrying after...8secs\n",
      "retrying after...8secs\n",
      "retrying after...8secs\n",
      "retrying after...8secs\n",
      "retrying after...8secs\n",
      "retrying after...8secs\n",
      "retrying after...8secs\n",
      "retrying after...8secs\n",
      "retrying after...8secs\n",
      "retrying after...8secs\n",
      "retrying after...8secs\n",
      "retrying after...8secs\n",
      "retrying after...8secs\n",
      "retrying after...8secsretrying after...8secs\n",
      "retrying after...8secs\n",
      "\n",
      "retrying after...8secs\n",
      "retrying after...8secsretrying after...8secs\n",
      "retrying after...8secs\n",
      "retrying after...8secsretrying after...8secs\n",
      "\n",
      "\n",
      "retrying after...8secs\n",
      "retrying after...8secs\n",
      "retrying after...8secs\n",
      "retrying after...8secs\n",
      "retrying after...8secsretrying after...8secsretrying after...8secs\n",
      "\n",
      "retrying after...8secsretrying after...8secsretrying after...8secs\n",
      "\n",
      "\n",
      "retrying after...8secs\n",
      "retrying after...8secsretrying after...8secs\n",
      "\n",
      "\n",
      "retrying after...8secs\n",
      "retrying after...8secs\n",
      "retrying after...8secs\n",
      "retrying after...8secs\n",
      "retrying after...8secs\n",
      "retrying after...8secs\n",
      "retrying after...8secs\n",
      "retrying after...8secs\n",
      "retrying after...8secs\n",
      "retrying after...8secs\n",
      "retrying after...8secs\n",
      "retrying after...8secs\n",
      "retrying after...8secs\n",
      "retrying after...8secs\n",
      "retrying after...8secs\n",
      "retrying after...8secs\n",
      "retrying after...8secs\n",
      "retrying after...8secs\n",
      "ERROR: 'float' object has no attribute 'split'\n",
      "ERROR: 'NoneType' object has no attribute 'get'\n",
      "retrying after...8secs\n",
      "retrying after...8secs\n",
      "retrying after...8secsretrying after...8secs\n",
      "\n",
      "retrying after...8secs\n",
      "retrying after...8secsretrying after...8secs\n",
      "\n",
      "retrying after...8secsretrying after...8secs\n",
      "\n",
      "retrying after...8secs\n",
      "retrying after...8secs\n",
      "retrying after...8secs\n",
      "retrying after...8secs\n",
      "retrying after...8secsretrying after...8secs\n",
      "\n",
      "retrying after...8secsretrying after...8secs\n",
      "retrying after...8secs\n",
      "\n",
      "retrying after...8secs\n",
      "retrying after...8secs\n",
      "retrying after...8secs\n",
      "retrying after...8secs\n",
      "retrying after...8secs\n",
      "retrying after...8secsretrying after...8secs\n",
      "\n",
      "retrying after...8secs\n",
      "retrying after...8secsretrying after...8secs\n",
      "\n",
      "retrying after...8secs\n",
      "retrying after...8secs\n",
      "retrying after...8secs\n",
      "retrying after...8secs\n",
      "retrying after...8secs\n",
      "retrying after...8secs\n",
      "retrying after...8secs\n",
      "retrying after...8secs\n",
      "retrying after...8secs\n",
      "retrying after...8secs\n",
      "retrying after...8secs\n",
      "retrying after...8secs\n",
      "retrying after...8secs\n",
      "retrying after...8secsretrying after...8secs\n",
      "\n",
      "retrying after...8secs\n",
      "retrying after...8secsretrying after...8secs\n",
      "\n",
      "retrying after...8secsretrying after...8secs\n",
      "\n",
      "retrying after...8secs\n",
      "retrying after...8secs\n",
      "retrying after...8secs\n",
      "retrying after...8secs\n",
      "retrying after...8secsretrying after...8secs\n",
      "\n",
      "retrying after...8secs\n",
      "retrying after...8secs\n",
      "retrying after...8secsretrying after...8secs\n",
      "\n",
      "retrying after...8secsretrying after...8secs\n",
      "retrying after...8secs\n",
      "retrying after...8secsretrying after...8secs\n",
      "\n",
      "\n",
      "retrying after...8secs\n",
      "retrying after...8secs\n",
      "retrying after...8secs\n",
      "retrying after...8secs\n",
      "retrying after...8secs\n",
      "retrying after...8secs\n",
      "retrying after...8secs\n",
      "retrying after...8secs\n",
      "retrying after...8secs\n",
      "retrying after...8secs\n",
      "retrying after...8secs\n",
      "retrying after...8secs\n",
      "retrying after...8secs\n",
      "retrying after...8secs\n",
      "retrying after...8secs\n",
      "retrying after...8secs\n",
      "retrying after...8secs\n",
      "retrying after...9secs\n",
      "retrying after...9secs\n",
      "retrying after...9secsretrying after...9secs\n",
      "\n",
      "retrying after...9secsretrying after...9secs\n",
      "retrying after...9secs\n",
      "retrying after...9secsretrying after...9secs\n",
      "\n",
      "\n",
      "retrying after...9secsretrying after...9secs\n",
      "retrying after...9secs\n",
      "\n",
      "retrying after...9secs\n",
      "retrying after...9secs\n",
      "retrying after...9secsretrying after...9secsretrying after...9secs\n",
      "\n",
      "retrying after...9secsretrying after...9secs\n",
      "\n",
      "retrying after...9secs\n",
      "\n",
      "retrying after...9secs\n",
      "retrying after...8secsretrying after...8secs\n",
      "\n",
      "retrying after...8secs\n",
      "retrying after...8secs\n",
      "retrying after...8secsretrying after...8secs\n",
      "\n",
      "retrying after...8secs\n",
      "retrying after...8secs\n",
      "retrying after...8secs\n",
      "retrying after...8secs\n",
      "retrying after...8secs\n",
      "retrying after...8secs\n",
      "retrying after...8secs\n",
      "retrying after...8secs\n",
      "retrying after...8secs\n",
      "retrying after...8secs\n",
      "retrying after...8secs\n",
      "retrying after...8secs\n",
      "retrying after...8secs\n"
     ]
    },
    {
     "ename": "KeyboardInterrupt",
     "evalue": "",
     "output_type": "error",
     "traceback": [
      "\u001b[0;31m---------------------------------------------------------------------------\u001b[0m",
      "\u001b[0;31mKeyboardInterrupt\u001b[0m                         Traceback (most recent call last)",
      "\u001b[0;32m<ipython-input-43-a7f8e83a8036>\u001b[0m in \u001b[0;36m<module>\u001b[0;34m\u001b[0m\n\u001b[1;32m      9\u001b[0m     \u001b[0mfuture_to_feats\u001b[0m \u001b[0;34m=\u001b[0m \u001b[0;34m{\u001b[0m\u001b[0mexecutor\u001b[0m\u001b[0;34m.\u001b[0m\u001b[0msubmit\u001b[0m\u001b[0;34m(\u001b[0m\u001b[0mget_audio_features\u001b[0m\u001b[0;34m,\u001b[0m \u001b[0mtrack_ids_i\u001b[0m\u001b[0;34m)\u001b[0m\u001b[0;34m:\u001b[0m \u001b[0mtrack_ids_i\u001b[0m \u001b[0;32mfor\u001b[0m \u001b[0mtrack_ids_i\u001b[0m \u001b[0;32min\u001b[0m \u001b[0mchunked_ids\u001b[0m\u001b[0;34m}\u001b[0m\u001b[0;34m\u001b[0m\u001b[0;34m\u001b[0m\u001b[0m\n\u001b[0;32m---> 10\u001b[0;31m     \u001b[0;32mfor\u001b[0m \u001b[0mfuture\u001b[0m \u001b[0;32min\u001b[0m \u001b[0mtqdm\u001b[0m\u001b[0;34m(\u001b[0m\u001b[0mas_completed\u001b[0m\u001b[0;34m(\u001b[0m\u001b[0mfuture_to_feats\u001b[0m\u001b[0;34m)\u001b[0m\u001b[0;34m,\u001b[0m \u001b[0mtotal\u001b[0m\u001b[0;34m=\u001b[0m\u001b[0mlen\u001b[0m\u001b[0;34m(\u001b[0m\u001b[0mfuture_to_feats\u001b[0m\u001b[0;34m)\u001b[0m\u001b[0;34m)\u001b[0m\u001b[0;34m:\u001b[0m\u001b[0;34m\u001b[0m\u001b[0;34m\u001b[0m\u001b[0m\n\u001b[0m\u001b[1;32m     11\u001b[0m         \u001b[0mtrack_ids_\u001b[0m \u001b[0;34m=\u001b[0m \u001b[0mfuture_to_feats\u001b[0m\u001b[0;34m[\u001b[0m\u001b[0mfuture\u001b[0m\u001b[0;34m]\u001b[0m\u001b[0;34m\u001b[0m\u001b[0;34m\u001b[0m\u001b[0m\n",
      "\u001b[0;32m~/anaconda3/envs/songclassification/lib/python3.8/site-packages/tqdm/notebook.py\u001b[0m in \u001b[0;36m__iter__\u001b[0;34m(self, *args, **kwargs)\u001b[0m\n\u001b[1;32m    216\u001b[0m         \u001b[0;32mtry\u001b[0m\u001b[0;34m:\u001b[0m\u001b[0;34m\u001b[0m\u001b[0;34m\u001b[0m\u001b[0m\n\u001b[0;32m--> 217\u001b[0;31m             \u001b[0;32mfor\u001b[0m \u001b[0mobj\u001b[0m \u001b[0;32min\u001b[0m \u001b[0msuper\u001b[0m\u001b[0;34m(\u001b[0m\u001b[0mtqdm_notebook\u001b[0m\u001b[0;34m,\u001b[0m \u001b[0mself\u001b[0m\u001b[0;34m)\u001b[0m\u001b[0;34m.\u001b[0m\u001b[0m__iter__\u001b[0m\u001b[0;34m(\u001b[0m\u001b[0;34m*\u001b[0m\u001b[0margs\u001b[0m\u001b[0;34m,\u001b[0m \u001b[0;34m**\u001b[0m\u001b[0mkwargs\u001b[0m\u001b[0;34m)\u001b[0m\u001b[0;34m:\u001b[0m\u001b[0;34m\u001b[0m\u001b[0;34m\u001b[0m\u001b[0m\n\u001b[0m\u001b[1;32m    218\u001b[0m                 \u001b[0;31m# return super(tqdm...) will not catch exception\u001b[0m\u001b[0;34m\u001b[0m\u001b[0;34m\u001b[0m\u001b[0;34m\u001b[0m\u001b[0m\n",
      "\u001b[0;32m~/anaconda3/envs/songclassification/lib/python3.8/site-packages/tqdm/std.py\u001b[0m in \u001b[0;36m__iter__\u001b[0;34m(self)\u001b[0m\n\u001b[1;32m   1106\u001b[0m \u001b[0;34m\u001b[0m\u001b[0m\n\u001b[0;32m-> 1107\u001b[0;31m         \u001b[0;32mfor\u001b[0m \u001b[0mobj\u001b[0m \u001b[0;32min\u001b[0m \u001b[0miterable\u001b[0m\u001b[0;34m:\u001b[0m\u001b[0;34m\u001b[0m\u001b[0;34m\u001b[0m\u001b[0m\n\u001b[0m\u001b[1;32m   1108\u001b[0m             \u001b[0;32myield\u001b[0m \u001b[0mobj\u001b[0m\u001b[0;34m\u001b[0m\u001b[0;34m\u001b[0m\u001b[0m\n",
      "\u001b[0;32m~/anaconda3/envs/songclassification/lib/python3.8/concurrent/futures/_base.py\u001b[0m in \u001b[0;36mas_completed\u001b[0;34m(fs, timeout)\u001b[0m\n\u001b[1;32m    243\u001b[0m \u001b[0;34m\u001b[0m\u001b[0m\n\u001b[0;32m--> 244\u001b[0;31m             \u001b[0mwaiter\u001b[0m\u001b[0;34m.\u001b[0m\u001b[0mevent\u001b[0m\u001b[0;34m.\u001b[0m\u001b[0mwait\u001b[0m\u001b[0;34m(\u001b[0m\u001b[0mwait_timeout\u001b[0m\u001b[0;34m)\u001b[0m\u001b[0;34m\u001b[0m\u001b[0;34m\u001b[0m\u001b[0m\n\u001b[0m\u001b[1;32m    245\u001b[0m \u001b[0;34m\u001b[0m\u001b[0m\n",
      "\u001b[0;32m~/anaconda3/envs/songclassification/lib/python3.8/threading.py\u001b[0m in \u001b[0;36mwait\u001b[0;34m(self, timeout)\u001b[0m\n\u001b[1;32m    557\u001b[0m             \u001b[0;32mif\u001b[0m \u001b[0;32mnot\u001b[0m \u001b[0msignaled\u001b[0m\u001b[0;34m:\u001b[0m\u001b[0;34m\u001b[0m\u001b[0;34m\u001b[0m\u001b[0m\n\u001b[0;32m--> 558\u001b[0;31m                 \u001b[0msignaled\u001b[0m \u001b[0;34m=\u001b[0m \u001b[0mself\u001b[0m\u001b[0;34m.\u001b[0m\u001b[0m_cond\u001b[0m\u001b[0;34m.\u001b[0m\u001b[0mwait\u001b[0m\u001b[0;34m(\u001b[0m\u001b[0mtimeout\u001b[0m\u001b[0;34m)\u001b[0m\u001b[0;34m\u001b[0m\u001b[0;34m\u001b[0m\u001b[0m\n\u001b[0m\u001b[1;32m    559\u001b[0m             \u001b[0;32mreturn\u001b[0m \u001b[0msignaled\u001b[0m\u001b[0;34m\u001b[0m\u001b[0;34m\u001b[0m\u001b[0m\n",
      "\u001b[0;32m~/anaconda3/envs/songclassification/lib/python3.8/threading.py\u001b[0m in \u001b[0;36mwait\u001b[0;34m(self, timeout)\u001b[0m\n\u001b[1;32m    301\u001b[0m             \u001b[0;32mif\u001b[0m \u001b[0mtimeout\u001b[0m \u001b[0;32mis\u001b[0m \u001b[0;32mNone\u001b[0m\u001b[0;34m:\u001b[0m\u001b[0;34m\u001b[0m\u001b[0;34m\u001b[0m\u001b[0m\n\u001b[0;32m--> 302\u001b[0;31m                 \u001b[0mwaiter\u001b[0m\u001b[0;34m.\u001b[0m\u001b[0macquire\u001b[0m\u001b[0;34m(\u001b[0m\u001b[0;34m)\u001b[0m\u001b[0;34m\u001b[0m\u001b[0;34m\u001b[0m\u001b[0m\n\u001b[0m\u001b[1;32m    303\u001b[0m                 \u001b[0mgotit\u001b[0m \u001b[0;34m=\u001b[0m \u001b[0;32mTrue\u001b[0m\u001b[0;34m\u001b[0m\u001b[0;34m\u001b[0m\u001b[0m\n",
      "\u001b[0;31mKeyboardInterrupt\u001b[0m: ",
      "\nDuring handling of the above exception, another exception occurred:\n",
      "\u001b[0;31mKeyboardInterrupt\u001b[0m                         Traceback (most recent call last)",
      "\u001b[0;32m<ipython-input-43-a7f8e83a8036>\u001b[0m in \u001b[0;36m<module>\u001b[0;34m\u001b[0m\n\u001b[1;32m     14\u001b[0m             \u001b[0maudio_features\u001b[0m\u001b[0;34m.\u001b[0m\u001b[0mextend\u001b[0m\u001b[0;34m(\u001b[0m\u001b[0mdata\u001b[0m\u001b[0;34m)\u001b[0m\u001b[0;34m\u001b[0m\u001b[0;34m\u001b[0m\u001b[0m\n\u001b[1;32m     15\u001b[0m         \u001b[0;32mexcept\u001b[0m \u001b[0mException\u001b[0m \u001b[0;32mas\u001b[0m \u001b[0mexc\u001b[0m\u001b[0;34m:\u001b[0m\u001b[0;34m\u001b[0m\u001b[0;34m\u001b[0m\u001b[0m\n\u001b[0;32m---> 16\u001b[0;31m             \u001b[0mprint\u001b[0m\u001b[0;34m(\u001b[0m\u001b[0;34m'%r generated an exception: %s'\u001b[0m \u001b[0;34m%\u001b[0m \u001b[0;34m(\u001b[0m\u001b[0mtrack_ids\u001b[0m\u001b[0;34m,\u001b[0m \u001b[0mexc\u001b[0m\u001b[0;34m)\u001b[0m\u001b[0;34m)\u001b[0m\u001b[0;34m\u001b[0m\u001b[0;34m\u001b[0m\u001b[0m\n\u001b[0m",
      "\u001b[0;32m~/anaconda3/envs/songclassification/lib/python3.8/concurrent/futures/_base.py\u001b[0m in \u001b[0;36m__exit__\u001b[0;34m(self, exc_type, exc_val, exc_tb)\u001b[0m\n\u001b[1;32m    634\u001b[0m \u001b[0;34m\u001b[0m\u001b[0m\n\u001b[1;32m    635\u001b[0m     \u001b[0;32mdef\u001b[0m \u001b[0m__exit__\u001b[0m\u001b[0;34m(\u001b[0m\u001b[0mself\u001b[0m\u001b[0;34m,\u001b[0m \u001b[0mexc_type\u001b[0m\u001b[0;34m,\u001b[0m \u001b[0mexc_val\u001b[0m\u001b[0;34m,\u001b[0m \u001b[0mexc_tb\u001b[0m\u001b[0;34m)\u001b[0m\u001b[0;34m:\u001b[0m\u001b[0;34m\u001b[0m\u001b[0;34m\u001b[0m\u001b[0m\n\u001b[0;32m--> 636\u001b[0;31m         \u001b[0mself\u001b[0m\u001b[0;34m.\u001b[0m\u001b[0mshutdown\u001b[0m\u001b[0;34m(\u001b[0m\u001b[0mwait\u001b[0m\u001b[0;34m=\u001b[0m\u001b[0;32mTrue\u001b[0m\u001b[0;34m)\u001b[0m\u001b[0;34m\u001b[0m\u001b[0;34m\u001b[0m\u001b[0m\n\u001b[0m\u001b[1;32m    637\u001b[0m         \u001b[0;32mreturn\u001b[0m \u001b[0;32mFalse\u001b[0m\u001b[0;34m\u001b[0m\u001b[0;34m\u001b[0m\u001b[0m\n\u001b[1;32m    638\u001b[0m \u001b[0;34m\u001b[0m\u001b[0m\n",
      "\u001b[0;32m~/anaconda3/envs/songclassification/lib/python3.8/concurrent/futures/thread.py\u001b[0m in \u001b[0;36mshutdown\u001b[0;34m(self, wait)\u001b[0m\n\u001b[1;32m    234\u001b[0m         \u001b[0;32mif\u001b[0m \u001b[0mwait\u001b[0m\u001b[0;34m:\u001b[0m\u001b[0;34m\u001b[0m\u001b[0;34m\u001b[0m\u001b[0m\n\u001b[1;32m    235\u001b[0m             \u001b[0;32mfor\u001b[0m \u001b[0mt\u001b[0m \u001b[0;32min\u001b[0m \u001b[0mself\u001b[0m\u001b[0;34m.\u001b[0m\u001b[0m_threads\u001b[0m\u001b[0;34m:\u001b[0m\u001b[0;34m\u001b[0m\u001b[0;34m\u001b[0m\u001b[0m\n\u001b[0;32m--> 236\u001b[0;31m                 \u001b[0mt\u001b[0m\u001b[0;34m.\u001b[0m\u001b[0mjoin\u001b[0m\u001b[0;34m(\u001b[0m\u001b[0;34m)\u001b[0m\u001b[0;34m\u001b[0m\u001b[0;34m\u001b[0m\u001b[0m\n\u001b[0m\u001b[1;32m    237\u001b[0m     \u001b[0mshutdown\u001b[0m\u001b[0;34m.\u001b[0m\u001b[0m__doc__\u001b[0m \u001b[0;34m=\u001b[0m \u001b[0m_base\u001b[0m\u001b[0;34m.\u001b[0m\u001b[0mExecutor\u001b[0m\u001b[0;34m.\u001b[0m\u001b[0mshutdown\u001b[0m\u001b[0;34m.\u001b[0m\u001b[0m__doc__\u001b[0m\u001b[0;34m\u001b[0m\u001b[0;34m\u001b[0m\u001b[0m\n",
      "\u001b[0;32m~/anaconda3/envs/songclassification/lib/python3.8/threading.py\u001b[0m in \u001b[0;36mjoin\u001b[0;34m(self, timeout)\u001b[0m\n\u001b[1;32m   1009\u001b[0m \u001b[0;34m\u001b[0m\u001b[0m\n\u001b[1;32m   1010\u001b[0m         \u001b[0;32mif\u001b[0m \u001b[0mtimeout\u001b[0m \u001b[0;32mis\u001b[0m \u001b[0;32mNone\u001b[0m\u001b[0;34m:\u001b[0m\u001b[0;34m\u001b[0m\u001b[0;34m\u001b[0m\u001b[0m\n\u001b[0;32m-> 1011\u001b[0;31m             \u001b[0mself\u001b[0m\u001b[0;34m.\u001b[0m\u001b[0m_wait_for_tstate_lock\u001b[0m\u001b[0;34m(\u001b[0m\u001b[0;34m)\u001b[0m\u001b[0;34m\u001b[0m\u001b[0;34m\u001b[0m\u001b[0m\n\u001b[0m\u001b[1;32m   1012\u001b[0m         \u001b[0;32melse\u001b[0m\u001b[0;34m:\u001b[0m\u001b[0;34m\u001b[0m\u001b[0;34m\u001b[0m\u001b[0m\n\u001b[1;32m   1013\u001b[0m             \u001b[0;31m# the behavior of a negative timeout isn't documented, but\u001b[0m\u001b[0;34m\u001b[0m\u001b[0;34m\u001b[0m\u001b[0;34m\u001b[0m\u001b[0m\n",
      "\u001b[0;32m~/anaconda3/envs/songclassification/lib/python3.8/threading.py\u001b[0m in \u001b[0;36m_wait_for_tstate_lock\u001b[0;34m(self, block, timeout)\u001b[0m\n\u001b[1;32m   1025\u001b[0m         \u001b[0;32mif\u001b[0m \u001b[0mlock\u001b[0m \u001b[0;32mis\u001b[0m \u001b[0;32mNone\u001b[0m\u001b[0;34m:\u001b[0m  \u001b[0;31m# already determined that the C code is done\u001b[0m\u001b[0;34m\u001b[0m\u001b[0;34m\u001b[0m\u001b[0m\n\u001b[1;32m   1026\u001b[0m             \u001b[0;32massert\u001b[0m \u001b[0mself\u001b[0m\u001b[0;34m.\u001b[0m\u001b[0m_is_stopped\u001b[0m\u001b[0;34m\u001b[0m\u001b[0;34m\u001b[0m\u001b[0m\n\u001b[0;32m-> 1027\u001b[0;31m         \u001b[0;32melif\u001b[0m \u001b[0mlock\u001b[0m\u001b[0;34m.\u001b[0m\u001b[0macquire\u001b[0m\u001b[0;34m(\u001b[0m\u001b[0mblock\u001b[0m\u001b[0;34m,\u001b[0m \u001b[0mtimeout\u001b[0m\u001b[0;34m)\u001b[0m\u001b[0;34m:\u001b[0m\u001b[0;34m\u001b[0m\u001b[0;34m\u001b[0m\u001b[0m\n\u001b[0m\u001b[1;32m   1028\u001b[0m             \u001b[0mlock\u001b[0m\u001b[0;34m.\u001b[0m\u001b[0mrelease\u001b[0m\u001b[0;34m(\u001b[0m\u001b[0;34m)\u001b[0m\u001b[0;34m\u001b[0m\u001b[0;34m\u001b[0m\u001b[0m\n\u001b[1;32m   1029\u001b[0m             \u001b[0mself\u001b[0m\u001b[0;34m.\u001b[0m\u001b[0m_stop\u001b[0m\u001b[0;34m(\u001b[0m\u001b[0;34m)\u001b[0m\u001b[0;34m\u001b[0m\u001b[0;34m\u001b[0m\u001b[0m\n",
      "\u001b[0;31mKeyboardInterrupt\u001b[0m: "
     ]
    }
   ],
   "source": [
    "from concurrent.futures import ThreadPoolExecutor, as_completed\n",
    "from multiprocessing import cpu_count\n",
    "\n",
    "\n",
    "audio_features = []\n",
    "num_workers = cpu_count() - 4\n",
    "with ThreadPoolExecutor(max_workers=num_workers) as executor:\n",
    "    # Start the load operations and mark each future with its URL\n",
    "    future_to_feats = {executor.submit(get_audio_features, track_ids_i): track_ids_i for track_ids_i in chunked_ids}\n",
    "    for future in tqdm(as_completed(future_to_feats), total=len(future_to_feats)):\n",
    "        track_ids_ = future_to_feats[future]\n",
    "        try:\n",
    "            data = future.result()\n",
    "            audio_features.extend(data)\n",
    "        except Exception as exc:\n",
    "            print('%r generated an exception: %s' % (track_ids, exc))\n"
   ]
  },
  {
   "cell_type": "code",
   "execution_count": 17,
   "metadata": {},
   "outputs": [
    {
     "data": {
      "text/plain": [
       "572120"
      ]
     },
     "execution_count": 17,
     "metadata": {},
     "output_type": "execute_result"
    }
   ],
   "source": [
    "len(audio_features)"
   ]
  },
  {
   "cell_type": "code",
   "execution_count": 18,
   "metadata": {},
   "outputs": [
    {
     "name": "stdout",
     "output_type": "stream",
     "text": [
      "{'acousticness': 0.914,\n",
      " 'danceability': 0.378,\n",
      " 'energy': 0.0947,\n",
      " 'instrumentalness': 0.0357,\n",
      " 'key': 2,\n",
      " 'liveness': 0.11,\n",
      " 'loudness': -21.929,\n",
      " 'mode': 1,\n",
      " 'speechiness': 0.0536,\n",
      " 'tempo': 129.94,\n",
      " 'time_signature': 3,\n",
      " 'track_id': '3yMHcBA4FrPxCUUeL9eRZ9',\n",
      " 'valence': 0.127}\n"
     ]
    }
   ],
   "source": [
    "pprint(audio_features[0])"
   ]
  },
  {
   "cell_type": "code",
   "execution_count": 20,
   "metadata": {},
   "outputs": [],
   "source": [
    "pts = pts.merge(pd.DataFrame(audio_features), on='track_id')"
   ]
  },
  {
   "cell_type": "code",
   "execution_count": 21,
   "metadata": {},
   "outputs": [
    {
     "data": {
      "text/html": [
       "<div>\n",
       "<style scoped>\n",
       "    .dataframe tbody tr th:only-of-type {\n",
       "        vertical-align: middle;\n",
       "    }\n",
       "\n",
       "    .dataframe tbody tr th {\n",
       "        vertical-align: top;\n",
       "    }\n",
       "\n",
       "    .dataframe thead th {\n",
       "        text-align: right;\n",
       "    }\n",
       "</style>\n",
       "<table border=\"1\" class=\"dataframe\">\n",
       "  <thead>\n",
       "    <tr style=\"text-align: right;\">\n",
       "      <th></th>\n",
       "      <th>playlist_id</th>\n",
       "      <th>added_at</th>\n",
       "      <th>added_by_id</th>\n",
       "      <th>isrc</th>\n",
       "      <th>artists</th>\n",
       "      <th>explicit</th>\n",
       "      <th>track_id</th>\n",
       "      <th>name</th>\n",
       "      <th>popularity</th>\n",
       "      <th>preview_url</th>\n",
       "      <th>...</th>\n",
       "      <th>key</th>\n",
       "      <th>loudness</th>\n",
       "      <th>mode</th>\n",
       "      <th>speechiness</th>\n",
       "      <th>acousticness</th>\n",
       "      <th>instrumentalness</th>\n",
       "      <th>liveness</th>\n",
       "      <th>valence</th>\n",
       "      <th>tempo</th>\n",
       "      <th>time_signature</th>\n",
       "    </tr>\n",
       "  </thead>\n",
       "  <tbody>\n",
       "    <tr>\n",
       "      <th>0</th>\n",
       "      <td>2HUpNZLoYHe0Sa9dglqQOg</td>\n",
       "      <td>2018-05-05T00:20:09Z</td>\n",
       "      <td>None</td>\n",
       "      <td>None</td>\n",
       "      <td>[{'external_urls': {'spotify': 'https://open.s...</td>\n",
       "      <td>False</td>\n",
       "      <td>3yMHcBA4FrPxCUUeL9eRZ9</td>\n",
       "      <td>Piano Trio No. 2, \"Knotted Fields\"</td>\n",
       "      <td>0.0</td>\n",
       "      <td>https://p.scdn.co/mp3-preview/13f1f904a6b310c0...</td>\n",
       "      <td>...</td>\n",
       "      <td>2</td>\n",
       "      <td>-21.929</td>\n",
       "      <td>1</td>\n",
       "      <td>0.0536</td>\n",
       "      <td>0.914</td>\n",
       "      <td>0.0357</td>\n",
       "      <td>0.1100</td>\n",
       "      <td>0.1270</td>\n",
       "      <td>129.940</td>\n",
       "      <td>3</td>\n",
       "    </tr>\n",
       "    <tr>\n",
       "      <th>1</th>\n",
       "      <td>3R0cCFr2WTRnMH63bYR1qM</td>\n",
       "      <td>2018-08-30T15:41:39Z</td>\n",
       "      <td>thesoundsofspotify</td>\n",
       "      <td>ATK940828201</td>\n",
       "      <td>[{'external_urls': {'spotify': 'https://open.s...</td>\n",
       "      <td>False</td>\n",
       "      <td>3yMHcBA4FrPxCUUeL9eRZ9</td>\n",
       "      <td>Piano Trio No. 2, \"Knotted Fields\"</td>\n",
       "      <td>0.0</td>\n",
       "      <td>https://p.scdn.co/mp3-preview/13f1f904a6b310c0...</td>\n",
       "      <td>...</td>\n",
       "      <td>2</td>\n",
       "      <td>-21.929</td>\n",
       "      <td>1</td>\n",
       "      <td>0.0536</td>\n",
       "      <td>0.914</td>\n",
       "      <td>0.0357</td>\n",
       "      <td>0.1100</td>\n",
       "      <td>0.1270</td>\n",
       "      <td>129.940</td>\n",
       "      <td>3</td>\n",
       "    </tr>\n",
       "    <tr>\n",
       "      <th>2</th>\n",
       "      <td>2HUpNZLoYHe0Sa9dglqQOg</td>\n",
       "      <td>2018-10-12T14:23:12Z</td>\n",
       "      <td>None</td>\n",
       "      <td>None</td>\n",
       "      <td>[{'external_urls': {'spotify': 'https://open.s...</td>\n",
       "      <td>False</td>\n",
       "      <td>5m5HHJhmpzOOt2hfEhDnap</td>\n",
       "      <td>Die schrecklich-gewaltigen Kinder: Großseufzer 1</td>\n",
       "      <td>0.0</td>\n",
       "      <td>https://p.scdn.co/mp3-preview/d5ffbf77dfbbe242...</td>\n",
       "      <td>...</td>\n",
       "      <td>5</td>\n",
       "      <td>-13.099</td>\n",
       "      <td>1</td>\n",
       "      <td>0.0652</td>\n",
       "      <td>0.962</td>\n",
       "      <td>0.1990</td>\n",
       "      <td>0.0835</td>\n",
       "      <td>0.0721</td>\n",
       "      <td>85.317</td>\n",
       "      <td>5</td>\n",
       "    </tr>\n",
       "    <tr>\n",
       "      <th>3</th>\n",
       "      <td>5vZJbTAT5UlOVc0jhWT3ao</td>\n",
       "      <td>2018-10-12T15:29:56Z</td>\n",
       "      <td>thesoundsofspotify</td>\n",
       "      <td>DEC441809887</td>\n",
       "      <td>[{'external_urls': {'spotify': 'https://open.s...</td>\n",
       "      <td>False</td>\n",
       "      <td>5m5HHJhmpzOOt2hfEhDnap</td>\n",
       "      <td>Die schrecklich-gewaltigen Kinder: Großseufzer 1</td>\n",
       "      <td>0.0</td>\n",
       "      <td>https://p.scdn.co/mp3-preview/d5ffbf77dfbbe242...</td>\n",
       "      <td>...</td>\n",
       "      <td>5</td>\n",
       "      <td>-13.099</td>\n",
       "      <td>1</td>\n",
       "      <td>0.0652</td>\n",
       "      <td>0.962</td>\n",
       "      <td>0.1990</td>\n",
       "      <td>0.0835</td>\n",
       "      <td>0.0721</td>\n",
       "      <td>85.317</td>\n",
       "      <td>5</td>\n",
       "    </tr>\n",
       "    <tr>\n",
       "      <th>4</th>\n",
       "      <td>2HUpNZLoYHe0Sa9dglqQOg</td>\n",
       "      <td>2019-04-12T15:22:27Z</td>\n",
       "      <td>None</td>\n",
       "      <td>None</td>\n",
       "      <td>[{'external_urls': {'spotify': 'https://open.s...</td>\n",
       "      <td>False</td>\n",
       "      <td>2EFYDHYQL6K0GYmTKa5wSV</td>\n",
       "      <td>Hitzaurre Bi: I. —</td>\n",
       "      <td>1.0</td>\n",
       "      <td>https://p.scdn.co/mp3-preview/4fe4e9a3e433715d...</td>\n",
       "      <td>...</td>\n",
       "      <td>8</td>\n",
       "      <td>-21.290</td>\n",
       "      <td>1</td>\n",
       "      <td>0.0446</td>\n",
       "      <td>0.937</td>\n",
       "      <td>0.8350</td>\n",
       "      <td>0.1260</td>\n",
       "      <td>0.0682</td>\n",
       "      <td>81.926</td>\n",
       "      <td>4</td>\n",
       "    </tr>\n",
       "  </tbody>\n",
       "</table>\n",
       "<p>5 rows × 28 columns</p>\n",
       "</div>"
      ],
      "text/plain": [
       "              playlist_id              added_at         added_by_id  \\\n",
       "0  2HUpNZLoYHe0Sa9dglqQOg  2018-05-05T00:20:09Z                None   \n",
       "1  3R0cCFr2WTRnMH63bYR1qM  2018-08-30T15:41:39Z  thesoundsofspotify   \n",
       "2  2HUpNZLoYHe0Sa9dglqQOg  2018-10-12T14:23:12Z                None   \n",
       "3  5vZJbTAT5UlOVc0jhWT3ao  2018-10-12T15:29:56Z  thesoundsofspotify   \n",
       "4  2HUpNZLoYHe0Sa9dglqQOg  2019-04-12T15:22:27Z                None   \n",
       "\n",
       "           isrc                                            artists explicit  \\\n",
       "0          None  [{'external_urls': {'spotify': 'https://open.s...    False   \n",
       "1  ATK940828201  [{'external_urls': {'spotify': 'https://open.s...    False   \n",
       "2          None  [{'external_urls': {'spotify': 'https://open.s...    False   \n",
       "3  DEC441809887  [{'external_urls': {'spotify': 'https://open.s...    False   \n",
       "4          None  [{'external_urls': {'spotify': 'https://open.s...    False   \n",
       "\n",
       "                 track_id                                              name  \\\n",
       "0  3yMHcBA4FrPxCUUeL9eRZ9                Piano Trio No. 2, \"Knotted Fields\"   \n",
       "1  3yMHcBA4FrPxCUUeL9eRZ9                Piano Trio No. 2, \"Knotted Fields\"   \n",
       "2  5m5HHJhmpzOOt2hfEhDnap  Die schrecklich-gewaltigen Kinder: Großseufzer 1   \n",
       "3  5m5HHJhmpzOOt2hfEhDnap  Die schrecklich-gewaltigen Kinder: Großseufzer 1   \n",
       "4  2EFYDHYQL6K0GYmTKa5wSV                                Hitzaurre Bi: I. —   \n",
       "\n",
       "   popularity                                        preview_url  ... key  \\\n",
       "0         0.0  https://p.scdn.co/mp3-preview/13f1f904a6b310c0...  ...   2   \n",
       "1         0.0  https://p.scdn.co/mp3-preview/13f1f904a6b310c0...  ...   2   \n",
       "2         0.0  https://p.scdn.co/mp3-preview/d5ffbf77dfbbe242...  ...   5   \n",
       "3         0.0  https://p.scdn.co/mp3-preview/d5ffbf77dfbbe242...  ...   5   \n",
       "4         1.0  https://p.scdn.co/mp3-preview/4fe4e9a3e433715d...  ...   8   \n",
       "\n",
       "  loudness mode speechiness acousticness instrumentalness  liveness  valence  \\\n",
       "0  -21.929    1      0.0536        0.914           0.0357    0.1100   0.1270   \n",
       "1  -21.929    1      0.0536        0.914           0.0357    0.1100   0.1270   \n",
       "2  -13.099    1      0.0652        0.962           0.1990    0.0835   0.0721   \n",
       "3  -13.099    1      0.0652        0.962           0.1990    0.0835   0.0721   \n",
       "4  -21.290    1      0.0446        0.937           0.8350    0.1260   0.0682   \n",
       "\n",
       "     tempo  time_signature  \n",
       "0  129.940               3  \n",
       "1  129.940               3  \n",
       "2   85.317               5  \n",
       "3   85.317               5  \n",
       "4   81.926               4  \n",
       "\n",
       "[5 rows x 28 columns]"
      ]
     },
     "execution_count": 21,
     "metadata": {},
     "output_type": "execute_result"
    }
   ],
   "source": [
    "pts.head()"
   ]
  },
  {
   "cell_type": "code",
   "execution_count": 22,
   "metadata": {},
   "outputs": [
    {
     "name": "stdout",
     "output_type": "stream",
     "text": [
      "<class 'pandas.core.frame.DataFrame'>\n",
      "Int64Index: 821407 entries, 0 to 821406\n",
      "Data columns (total 28 columns):\n",
      " #   Column            Non-Null Count   Dtype  \n",
      "---  ------            --------------   -----  \n",
      " 0   playlist_id       821407 non-null  object \n",
      " 1   added_at          821407 non-null  object \n",
      " 2   added_by_id       821397 non-null  object \n",
      " 3   isrc              821117 non-null  object \n",
      " 4   artists           821407 non-null  object \n",
      " 5   explicit          821407 non-null  object \n",
      " 6   track_id          821407 non-null  object \n",
      " 7   name              821407 non-null  object \n",
      " 8   popularity        821407 non-null  float64\n",
      " 9   preview_url       712834 non-null  object \n",
      " 10  album_type        821397 non-null  object \n",
      " 11  album_id          821397 non-null  object \n",
      " 12  album_name        821397 non-null  object \n",
      " 13  release_date      821397 non-null  object \n",
      " 14  playlist_name     821407 non-null  object \n",
      " 15  description       821407 non-null  object \n",
      " 16  danceability      821407 non-null  float64\n",
      " 17  energy            821407 non-null  float64\n",
      " 18  key               821407 non-null  int64  \n",
      " 19  loudness          821407 non-null  float64\n",
      " 20  mode              821407 non-null  int64  \n",
      " 21  speechiness       821407 non-null  float64\n",
      " 22  acousticness      821407 non-null  float64\n",
      " 23  instrumentalness  821407 non-null  float64\n",
      " 24  liveness          821407 non-null  float64\n",
      " 25  valence           821407 non-null  float64\n",
      " 26  tempo             821407 non-null  float64\n",
      " 27  time_signature    821407 non-null  int64  \n",
      "dtypes: float64(10), int64(3), object(15)\n",
      "memory usage: 181.7+ MB\n"
     ]
    }
   ],
   "source": [
    "pts.info()"
   ]
  },
  {
   "cell_type": "code",
   "execution_count": 23,
   "metadata": {},
   "outputs": [
    {
     "data": {
      "text/html": [
       "<div>\n",
       "<style scoped>\n",
       "    .dataframe tbody tr th:only-of-type {\n",
       "        vertical-align: middle;\n",
       "    }\n",
       "\n",
       "    .dataframe tbody tr th {\n",
       "        vertical-align: top;\n",
       "    }\n",
       "\n",
       "    .dataframe thead th {\n",
       "        text-align: right;\n",
       "    }\n",
       "</style>\n",
       "<table border=\"1\" class=\"dataframe\">\n",
       "  <thead>\n",
       "    <tr style=\"text-align: right;\">\n",
       "      <th></th>\n",
       "      <th>popularity</th>\n",
       "      <th>danceability</th>\n",
       "      <th>energy</th>\n",
       "      <th>key</th>\n",
       "      <th>loudness</th>\n",
       "      <th>mode</th>\n",
       "      <th>speechiness</th>\n",
       "      <th>acousticness</th>\n",
       "      <th>instrumentalness</th>\n",
       "      <th>liveness</th>\n",
       "      <th>valence</th>\n",
       "      <th>tempo</th>\n",
       "      <th>time_signature</th>\n",
       "    </tr>\n",
       "  </thead>\n",
       "  <tbody>\n",
       "    <tr>\n",
       "      <th>count</th>\n",
       "      <td>821407.000000</td>\n",
       "      <td>821407.000000</td>\n",
       "      <td>821407.000000</td>\n",
       "      <td>821407.000000</td>\n",
       "      <td>821407.000000</td>\n",
       "      <td>821407.000000</td>\n",
       "      <td>821407.000000</td>\n",
       "      <td>821407.000000</td>\n",
       "      <td>821407.000000</td>\n",
       "      <td>821407.000000</td>\n",
       "      <td>821407.000000</td>\n",
       "      <td>821407.000000</td>\n",
       "      <td>821407.000000</td>\n",
       "    </tr>\n",
       "    <tr>\n",
       "      <th>mean</th>\n",
       "      <td>22.910924</td>\n",
       "      <td>0.539131</td>\n",
       "      <td>0.616195</td>\n",
       "      <td>5.289596</td>\n",
       "      <td>-9.297071</td>\n",
       "      <td>0.632860</td>\n",
       "      <td>0.085052</td>\n",
       "      <td>0.329177</td>\n",
       "      <td>0.233970</td>\n",
       "      <td>0.193424</td>\n",
       "      <td>0.471998</td>\n",
       "      <td>121.261005</td>\n",
       "      <td>3.889084</td>\n",
       "    </tr>\n",
       "    <tr>\n",
       "      <th>std</th>\n",
       "      <td>19.478029</td>\n",
       "      <td>0.189613</td>\n",
       "      <td>0.265371</td>\n",
       "      <td>3.552935</td>\n",
       "      <td>5.510345</td>\n",
       "      <td>0.482025</td>\n",
       "      <td>0.106247</td>\n",
       "      <td>0.351315</td>\n",
       "      <td>0.355227</td>\n",
       "      <td>0.161452</td>\n",
       "      <td>0.272287</td>\n",
       "      <td>29.494079</td>\n",
       "      <td>0.442474</td>\n",
       "    </tr>\n",
       "    <tr>\n",
       "      <th>min</th>\n",
       "      <td>0.000000</td>\n",
       "      <td>0.000000</td>\n",
       "      <td>0.000000</td>\n",
       "      <td>0.000000</td>\n",
       "      <td>-59.502000</td>\n",
       "      <td>0.000000</td>\n",
       "      <td>0.000000</td>\n",
       "      <td>0.000000</td>\n",
       "      <td>0.000000</td>\n",
       "      <td>0.000000</td>\n",
       "      <td>0.000000</td>\n",
       "      <td>0.000000</td>\n",
       "      <td>0.000000</td>\n",
       "    </tr>\n",
       "    <tr>\n",
       "      <th>25%</th>\n",
       "      <td>5.000000</td>\n",
       "      <td>0.409000</td>\n",
       "      <td>0.433000</td>\n",
       "      <td>2.000000</td>\n",
       "      <td>-11.316000</td>\n",
       "      <td>0.000000</td>\n",
       "      <td>0.036100</td>\n",
       "      <td>0.010800</td>\n",
       "      <td>0.000001</td>\n",
       "      <td>0.095300</td>\n",
       "      <td>0.240000</td>\n",
       "      <td>98.318500</td>\n",
       "      <td>4.000000</td>\n",
       "    </tr>\n",
       "    <tr>\n",
       "      <th>50%</th>\n",
       "      <td>19.000000</td>\n",
       "      <td>0.553000</td>\n",
       "      <td>0.658000</td>\n",
       "      <td>5.000000</td>\n",
       "      <td>-7.872000</td>\n",
       "      <td>1.000000</td>\n",
       "      <td>0.048500</td>\n",
       "      <td>0.171000</td>\n",
       "      <td>0.001190</td>\n",
       "      <td>0.126000</td>\n",
       "      <td>0.461000</td>\n",
       "      <td>120.125000</td>\n",
       "      <td>4.000000</td>\n",
       "    </tr>\n",
       "    <tr>\n",
       "      <th>75%</th>\n",
       "      <td>38.000000</td>\n",
       "      <td>0.683000</td>\n",
       "      <td>0.842000</td>\n",
       "      <td>8.000000</td>\n",
       "      <td>-5.630000</td>\n",
       "      <td>1.000000</td>\n",
       "      <td>0.085000</td>\n",
       "      <td>0.645000</td>\n",
       "      <td>0.515000</td>\n",
       "      <td>0.247000</td>\n",
       "      <td>0.695000</td>\n",
       "      <td>139.944000</td>\n",
       "      <td>4.000000</td>\n",
       "    </tr>\n",
       "    <tr>\n",
       "      <th>max</th>\n",
       "      <td>100.000000</td>\n",
       "      <td>0.989000</td>\n",
       "      <td>1.000000</td>\n",
       "      <td>11.000000</td>\n",
       "      <td>5.994000</td>\n",
       "      <td>1.000000</td>\n",
       "      <td>0.970000</td>\n",
       "      <td>0.996000</td>\n",
       "      <td>1.000000</td>\n",
       "      <td>1.000000</td>\n",
       "      <td>1.000000</td>\n",
       "      <td>247.949000</td>\n",
       "      <td>5.000000</td>\n",
       "    </tr>\n",
       "  </tbody>\n",
       "</table>\n",
       "</div>"
      ],
      "text/plain": [
       "          popularity   danceability         energy            key  \\\n",
       "count  821407.000000  821407.000000  821407.000000  821407.000000   \n",
       "mean       22.910924       0.539131       0.616195       5.289596   \n",
       "std        19.478029       0.189613       0.265371       3.552935   \n",
       "min         0.000000       0.000000       0.000000       0.000000   \n",
       "25%         5.000000       0.409000       0.433000       2.000000   \n",
       "50%        19.000000       0.553000       0.658000       5.000000   \n",
       "75%        38.000000       0.683000       0.842000       8.000000   \n",
       "max       100.000000       0.989000       1.000000      11.000000   \n",
       "\n",
       "            loudness           mode    speechiness   acousticness  \\\n",
       "count  821407.000000  821407.000000  821407.000000  821407.000000   \n",
       "mean       -9.297071       0.632860       0.085052       0.329177   \n",
       "std         5.510345       0.482025       0.106247       0.351315   \n",
       "min       -59.502000       0.000000       0.000000       0.000000   \n",
       "25%       -11.316000       0.000000       0.036100       0.010800   \n",
       "50%        -7.872000       1.000000       0.048500       0.171000   \n",
       "75%        -5.630000       1.000000       0.085000       0.645000   \n",
       "max         5.994000       1.000000       0.970000       0.996000   \n",
       "\n",
       "       instrumentalness       liveness        valence          tempo  \\\n",
       "count     821407.000000  821407.000000  821407.000000  821407.000000   \n",
       "mean           0.233970       0.193424       0.471998     121.261005   \n",
       "std            0.355227       0.161452       0.272287      29.494079   \n",
       "min            0.000000       0.000000       0.000000       0.000000   \n",
       "25%            0.000001       0.095300       0.240000      98.318500   \n",
       "50%            0.001190       0.126000       0.461000     120.125000   \n",
       "75%            0.515000       0.247000       0.695000     139.944000   \n",
       "max            1.000000       1.000000       1.000000     247.949000   \n",
       "\n",
       "       time_signature  \n",
       "count   821407.000000  \n",
       "mean         3.889084  \n",
       "std          0.442474  \n",
       "min          0.000000  \n",
       "25%          4.000000  \n",
       "50%          4.000000  \n",
       "75%          4.000000  \n",
       "max          5.000000  "
      ]
     },
     "execution_count": 23,
     "metadata": {},
     "output_type": "execute_result"
    }
   ],
   "source": [
    "pts.describe()"
   ]
  },
  {
   "cell_type": "code",
   "execution_count": 25,
   "metadata": {},
   "outputs": [
    {
     "data": {
      "text/plain": [
       "<matplotlib.axes._subplots.AxesSubplot at 0x7f482ff0a4f0>"
      ]
     },
     "execution_count": 25,
     "metadata": {},
     "output_type": "execute_result"
    },
    {
     "data": {
      "image/png": "[encoded data removed]",
      "text/plain": [
       "<Figure size 432x288 with 1 Axes>"
      ]
     },
     "metadata": {
      "needs_background": "light"
     },
     "output_type": "display_data"
    }
   ],
   "source": [
    "\n",
    "pts.groupby('playlist_name').apply(lambda x: x['track_id'].nunique()).plot(kind='bar')"
   ]
  },
  {
   "cell_type": "code",
   "execution_count": 26,
   "metadata": {},
   "outputs": [
    {
     "data": {
      "text/plain": [
       "playlist_name\n",
       " 21st Century Classical    496\n",
       " 432Hz                     102\n",
       " 8-Bit                     106\n",
       " A Cappella                336\n",
       " Aarhus Indie              119\n",
       "                          ... \n",
       " Zürich Indie              102\n",
       " the Czech Republic        100\n",
       " Çifteli                    98\n",
       " Çocuk Şarkısı             117\n",
       " İlahiler                  121\n",
       "Length: 3602, dtype: int64"
      ]
     },
     "execution_count": 26,
     "metadata": {},
     "output_type": "execute_result"
    }
   ],
   "source": [
    "genre_counts = pts.groupby('playlist_name').apply(lambda x: x['track_id'].nunique())\n",
    "genre_counts"
   ]
  },
  {
   "cell_type": "code",
   "execution_count": 28,
   "metadata": {},
   "outputs": [],
   "source": [
    "genre_counts.to_csv('/home/kai/github/project-krmiddlebrook/data/genre_distribution.csv')"
   ]
  },
  {
   "cell_type": "code",
   "execution_count": 33,
   "metadata": {},
   "outputs": [],
   "source": [
    "genre_counts = genre_counts.to_frame(name='Number of Tracks').rename(index={'playlist_name': 'Genre'}).to_csv('/home/kai/github/project-krmiddlebrook/data/genre_distribution.csv')"
   ]
  },
  {
   "cell_type": "code",
   "execution_count": 34,
   "metadata": {},
   "outputs": [],
   "source": [
    "genre_counts = genre_counts.to_frame(name='Number of Tracks')"
   ]
  },
  {
   "cell_type": "code",
   "execution_count": 37,
   "metadata": {},
   "outputs": [],
   "source": [
    "genre_counts.reset_index().rename(columns={'playlist_name': 'Genre'}).to_csv('/home/kai/github/project-krmiddlebrook/data/genre_distribution.csv', index=False)"
   ]
  },
  {
   "cell_type": "code",
   "execution_count": 6,
   "metadata": {},
   "outputs": [],
   "source": [
    "import plotly.express as px"
   ]
  },
  {
   "cell_type": "code",
   "execution_count": 8,
   "metadata": {},
   "outputs": [
    {
     "data": {
      "text/html": [
       "<div>\n",
       "<style scoped>\n",
       "    .dataframe tbody tr th:only-of-type {\n",
       "        vertical-align: middle;\n",
       "    }\n",
       "\n",
       "    .dataframe tbody tr th {\n",
       "        vertical-align: top;\n",
       "    }\n",
       "\n",
       "    .dataframe thead th {\n",
       "        text-align: right;\n",
       "    }\n",
       "</style>\n",
       "<table border=\"1\" class=\"dataframe\">\n",
       "  <thead>\n",
       "    <tr style=\"text-align: right;\">\n",
       "      <th></th>\n",
       "      <th>Genre</th>\n",
       "      <th>Track Count</th>\n",
       "    </tr>\n",
       "  </thead>\n",
       "  <tbody>\n",
       "    <tr>\n",
       "      <th>0</th>\n",
       "      <td>Rock</td>\n",
       "      <td>1173</td>\n",
       "    </tr>\n",
       "    <tr>\n",
       "      <th>1</th>\n",
       "      <td>Dance Pop</td>\n",
       "      <td>1135</td>\n",
       "    </tr>\n",
       "    <tr>\n",
       "      <th>2</th>\n",
       "      <td>Pop</td>\n",
       "      <td>1126</td>\n",
       "    </tr>\n",
       "    <tr>\n",
       "      <th>3</th>\n",
       "      <td>Electro House</td>\n",
       "      <td>1004</td>\n",
       "    </tr>\n",
       "    <tr>\n",
       "      <th>4</th>\n",
       "      <td>Indie Folk</td>\n",
       "      <td>994</td>\n",
       "    </tr>\n",
       "    <tr>\n",
       "      <th>...</th>\n",
       "      <td>...</td>\n",
       "      <td>...</td>\n",
       "    </tr>\n",
       "    <tr>\n",
       "      <th>3597</th>\n",
       "      <td>Congo (Kinshasa)</td>\n",
       "      <td>37</td>\n",
       "    </tr>\n",
       "    <tr>\n",
       "      <th>3598</th>\n",
       "      <td>Spanish Classical</td>\n",
       "      <td>32</td>\n",
       "    </tr>\n",
       "    <tr>\n",
       "      <th>3599</th>\n",
       "      <td>Animal Singing</td>\n",
       "      <td>27</td>\n",
       "    </tr>\n",
       "    <tr>\n",
       "      <th>3600</th>\n",
       "      <td>Saint-Martin</td>\n",
       "      <td>11</td>\n",
       "    </tr>\n",
       "    <tr>\n",
       "      <th>3601</th>\n",
       "      <td>Saint Lucia</td>\n",
       "      <td>5</td>\n",
       "    </tr>\n",
       "  </tbody>\n",
       "</table>\n",
       "<p>3602 rows × 2 columns</p>\n",
       "</div>"
      ],
      "text/plain": [
       "                   Genre  Track Count\n",
       "0                   Rock         1173\n",
       "1              Dance Pop         1135\n",
       "2                    Pop         1126\n",
       "3          Electro House         1004\n",
       "4             Indie Folk          994\n",
       "...                  ...          ...\n",
       "3597    Congo (Kinshasa)           37\n",
       "3598   Spanish Classical           32\n",
       "3599      Animal Singing           27\n",
       "3600        Saint-Martin           11\n",
       "3601         Saint Lucia            5\n",
       "\n",
       "[3602 rows x 2 columns]"
      ]
     },
     "execution_count": 8,
     "metadata": {},
     "output_type": "execute_result"
    }
   ],
   "source": [
    "genre_counts = pts.playlist_name.value_counts().to_frame(name='Track Count').reset_index().rename(columns={'index': 'Genre'})\n",
    "genre_counts"
   ]
  },
  {
   "cell_type": "code",
   "execution_count": 23,
   "metadata": {},
   "outputs": [
    {
     "data": {
      "application/vnd.plotly.v1+json": {
       "config": {
        "plotlyServerURL": "https://plot.ly"
       },
       "data": [
        {
         "alignmentgroup": "True",
         "customdata": [
          [
           1173,
           " Rock"
          ],
          [
           1135,
           " Dance Pop"
          ],
          [
           1126,
           " Pop"
          ],
          [
           1004,
           " Electro House"
          ],
          [
           994,
           " Indie Folk"
          ],
          [
           986,
           " Indie Rock"
          ],
          [
           971,
           " Hip Hop"
          ],
          [
           962,
           " Latin"
          ],
          [
           927,
           " Pop Rap"
          ],
          [
           926,
           " Rap"
          ],
          [
           895,
           " Indie Pop"
          ],
          [
           888,
           " French Hip Hop"
          ],
          [
           885,
           " Modern Rock"
          ],
          [
           881,
           " Classical Performance"
          ],
          [
           872,
           " Indie R&B"
          ],
          [
           859,
           " Latin Rock"
          ],
          [
           838,
           " Indie Poptimism"
          ],
          [
           837,
           " German Hip Hop"
          ],
          [
           833,
           " Indietronica"
          ],
          [
           825,
           " Chamber Pop"
          ],
          [
           819,
           " Tropical"
          ],
          [
           815,
           " Pop Rock"
          ],
          [
           812,
           " Electropop"
          ],
          [
           808,
           " Anthem Worship"
          ],
          [
           799,
           " Sleep"
          ],
          [
           796,
           " Country Rock"
          ],
          [
           796,
           " German Rock"
          ],
          [
           795,
           " Roots Rock"
          ],
          [
           788,
           " Funk"
          ],
          [
           786,
           " Folk Rock"
          ],
          [
           782,
           " Art Pop"
          ],
          [
           777,
           " Urban Contemporary"
          ],
          [
           768,
           " Underground Hip Hop"
          ],
          [
           758,
           " Background Music"
          ],
          [
           756,
           " Dutch Hip Hop"
          ],
          [
           754,
           " Modern Alternative Rock"
          ],
          [
           751,
           " K-Pop"
          ],
          [
           745,
           " Europop"
          ],
          [
           739,
           " Tropical House"
          ],
          [
           734,
           " Filmi"
          ],
          [
           732,
           " Progressive House"
          ],
          [
           732,
           " Rock en Español"
          ],
          [
           730,
           " Indie Electropop"
          ],
          [
           725,
           " Forró"
          ],
          [
           724,
           " UK Hip Hop"
          ],
          [
           719,
           " Trap"
          ],
          [
           716,
           " New Wave Pop"
          ],
          [
           711,
           " Folk"
          ],
          [
           708,
           " Freak Folk"
          ],
          [
           707,
           " Stomp and Holler"
          ]
         ],
         "hovertemplate": "Track Count=%{marker.color}<br>Genre=%{customdata[1]}<extra></extra>",
         "legendgroup": "",
         "marker": {
          "color": [
           1173,
           1135,
           1126,
           1004,
           994,
           986,
           971,
           962,
           927,
           926,
           895,
           888,
           885,
           881,
           872,
           859,
           838,
           837,
           833,
           825,
           819,
           815,
           812,
           808,
           799,
           796,
           796,
           795,
           788,
           786,
           782,
           777,
           768,
           758,
           756,
           754,
           751,
           745,
           739,
           734,
           732,
           732,
           730,
           725,
           724,
           719,
           716,
           711,
           708,
           707
          ],
          "coloraxis": "coloraxis"
         },
         "name": "",
         "offsetgroup": "",
         "orientation": "h",
         "showlegend": false,
         "textposition": "auto",
         "type": "bar",
         "x": [
          1173,
          1135,
          1126,
          1004,
          994,
          986,
          971,
          962,
          927,
          926,
          895,
          888,
          885,
          881,
          872,
          859,
          838,
          837,
          833,
          825,
          819,
          815,
          812,
          808,
          799,
          796,
          796,
          795,
          788,
          786,
          782,
          777,
          768,
          758,
          756,
          754,
          751,
          745,
          739,
          734,
          732,
          732,
          730,
          725,
          724,
          719,
          716,
          711,
          708,
          707
         ],
         "xaxis": "x",
         "y": [
          " Rock",
          " Dance Pop",
          " Pop",
          " Electro House",
          " Indie Folk",
          " Indie Rock",
          " Hip Hop",
          " Latin",
          " Pop Rap",
          " Rap",
          " Indie Pop",
          " French Hip Hop",
          " Modern Rock",
          " Classical Performance",
          " Indie R&B",
          " Latin Rock",
          " Indie Poptimism",
          " German Hip Hop",
          " Indietronica",
          " Chamber Pop",
          " Tropical",
          " Pop Rock",
          " Electropop",
          " Anthem Worship",
          " Sleep",
          " Country Rock",
          " German Rock",
          " Roots Rock",
          " Funk",
          " Folk Rock",
          " Art Pop",
          " Urban Contemporary",
          " Underground Hip Hop",
          " Background Music",
          " Dutch Hip Hop",
          " Modern Alternative Rock",
          " K-Pop",
          " Europop",
          " Tropical House",
          " Filmi",
          " Progressive House",
          " Rock en Español",
          " Indie Electropop",
          " Forró",
          " UK Hip Hop",
          " Trap",
          " New Wave Pop",
          " Folk",
          " Freak Folk",
          " Stomp and Holler"
         ],
         "yaxis": "y"
        }
       ],
       "layout": {
        "barmode": "relative",
        "coloraxis": {
         "colorbar": {
          "title": {
           "text": "Track Count"
          }
         },
         "colorscale": [
          [
           0,
           "#0d0887"
          ],
          [
           0.1111111111111111,
           "#46039f"
          ],
          [
           0.2222222222222222,
           "#7201a8"
          ],
          [
           0.3333333333333333,
           "#9c179e"
          ],
          [
           0.4444444444444444,
           "#bd3786"
          ],
          [
           0.5555555555555556,
           "#d8576b"
          ],
          [
           0.6666666666666666,
           "#ed7953"
          ],
          [
           0.7777777777777778,
           "#fb9f3a"
          ],
          [
           0.8888888888888888,
           "#fdca26"
          ],
          [
           1,
           "#f0f921"
          ]
         ]
        },
        "height": 800,
        "legend": {
         "tracegroupgap": 0
        },
        "template": {
         "data": {
          "bar": [
           {
            "error_x": {
             "color": "#2a3f5f"
            },
            "error_y": {
             "color": "#2a3f5f"
            },
            "marker": {
             "line": {
              "color": "#E5ECF6",
              "width": 0.5
             }
            },
            "type": "bar"
           }
          ],
          "barpolar": [
           {
            "marker": {
             "line": {
              "color": "#E5ECF6",
              "width": 0.5
             }
            },
            "type": "barpolar"
           }
          ],
          "carpet": [
           {
            "aaxis": {
             "endlinecolor": "#2a3f5f",
             "gridcolor": "white",
             "linecolor": "white",
             "minorgridcolor": "white",
             "startlinecolor": "#2a3f5f"
            },
            "baxis": {
             "endlinecolor": "#2a3f5f",
             "gridcolor": "white",
             "linecolor": "white",
             "minorgridcolor": "white",
             "startlinecolor": "#2a3f5f"
            },
            "type": "carpet"
           }
          ],
          "choropleth": [
           {
            "colorbar": {
             "outlinewidth": 0,
             "ticks": ""
            },
            "type": "choropleth"
           }
          ],
          "contour": [
           {
            "colorbar": {
             "outlinewidth": 0,
             "ticks": ""
            },
            "colorscale": [
             [
              0,
              "#0d0887"
             ],
             [
              0.1111111111111111,
              "#46039f"
             ],
             [
              0.2222222222222222,
              "#7201a8"
             ],
             [
              0.3333333333333333,
              "#9c179e"
             ],
             [
              0.4444444444444444,
              "#bd3786"
             ],
             [
              0.5555555555555556,
              "#d8576b"
             ],
             [
              0.6666666666666666,
              "#ed7953"
             ],
             [
              0.7777777777777778,
              "#fb9f3a"
             ],
             [
              0.8888888888888888,
              "#fdca26"
             ],
             [
              1,
              "#f0f921"
             ]
            ],
            "type": "contour"
           }
          ],
          "contourcarpet": [
           {
            "colorbar": {
             "outlinewidth": 0,
             "ticks": ""
            },
            "type": "contourcarpet"
           }
          ],
          "heatmap": [
           {
            "colorbar": {
             "outlinewidth": 0,
             "ticks": ""
            },
            "colorscale": [
             [
              0,
              "#0d0887"
             ],
             [
              0.1111111111111111,
              "#46039f"
             ],
             [
              0.2222222222222222,
              "#7201a8"
             ],
             [
              0.3333333333333333,
              "#9c179e"
             ],
             [
              0.4444444444444444,
              "#bd3786"
             ],
             [
              0.5555555555555556,
              "#d8576b"
             ],
             [
              0.6666666666666666,
              "#ed7953"
             ],
             [
              0.7777777777777778,
              "#fb9f3a"
             ],
             [
              0.8888888888888888,
              "#fdca26"
             ],
             [
              1,
              "#f0f921"
             ]
            ],
            "type": "heatmap"
           }
          ],
          "heatmapgl": [
           {
            "colorbar": {
             "outlinewidth": 0,
             "ticks": ""
            },
            "colorscale": [
             [
              0,
              "#0d0887"
             ],
             [
              0.1111111111111111,
              "#46039f"
             ],
             [
              0.2222222222222222,
              "#7201a8"
             ],
             [
              0.3333333333333333,
              "#9c179e"
             ],
             [
              0.4444444444444444,
              "#bd3786"
             ],
             [
              0.5555555555555556,
              "#d8576b"
             ],
             [
              0.6666666666666666,
              "#ed7953"
             ],
             [
              0.7777777777777778,
              "#fb9f3a"
             ],
             [
              0.8888888888888888,
              "#fdca26"
             ],
             [
              1,
              "#f0f921"
             ]
            ],
            "type": "heatmapgl"
           }
          ],
          "histogram": [
           {
            "marker": {
             "colorbar": {
              "outlinewidth": 0,
              "ticks": ""
             }
            },
            "type": "histogram"
           }
          ],
          "histogram2d": [
           {
            "colorbar": {
             "outlinewidth": 0,
             "ticks": ""
            },
            "colorscale": [
             [
              0,
              "#0d0887"
             ],
             [
              0.1111111111111111,
              "#46039f"
             ],
             [
              0.2222222222222222,
              "#7201a8"
             ],
             [
              0.3333333333333333,
              "#9c179e"
             ],
             [
              0.4444444444444444,
              "#bd3786"
             ],
             [
              0.5555555555555556,
              "#d8576b"
             ],
             [
              0.6666666666666666,
              "#ed7953"
             ],
             [
              0.7777777777777778,
              "#fb9f3a"
             ],
             [
              0.8888888888888888,
              "#fdca26"
             ],
             [
              1,
              "#f0f921"
             ]
            ],
            "type": "histogram2d"
           }
          ],
          "histogram2dcontour": [
           {
            "colorbar": {
             "outlinewidth": 0,
             "ticks": ""
            },
            "colorscale": [
             [
              0,
              "#0d0887"
             ],
             [
              0.1111111111111111,
              "#46039f"
             ],
             [
              0.2222222222222222,
              "#7201a8"
             ],
             [
              0.3333333333333333,
              "#9c179e"
             ],
             [
              0.4444444444444444,
              "#bd3786"
             ],
             [
              0.5555555555555556,
              "#d8576b"
             ],
             [
              0.6666666666666666,
              "#ed7953"
             ],
             [
              0.7777777777777778,
              "#fb9f3a"
             ],
             [
              0.8888888888888888,
              "#fdca26"
             ],
             [
              1,
              "#f0f921"
             ]
            ],
            "type": "histogram2dcontour"
           }
          ],
          "mesh3d": [
           {
            "colorbar": {
             "outlinewidth": 0,
             "ticks": ""
            },
            "type": "mesh3d"
           }
          ],
          "parcoords": [
           {
            "line": {
             "colorbar": {
              "outlinewidth": 0,
              "ticks": ""
             }
            },
            "type": "parcoords"
           }
          ],
          "pie": [
           {
            "automargin": true,
            "type": "pie"
           }
          ],
          "scatter": [
           {
            "marker": {
             "colorbar": {
              "outlinewidth": 0,
              "ticks": ""
             }
            },
            "type": "scatter"
           }
          ],
          "scatter3d": [
           {
            "line": {
             "colorbar": {
              "outlinewidth": 0,
              "ticks": ""
             }
            },
            "marker": {
             "colorbar": {
              "outlinewidth": 0,
              "ticks": ""
             }
            },
            "type": "scatter3d"
           }
          ],
          "scattercarpet": [
           {
            "marker": {
             "colorbar": {
              "outlinewidth": 0,
              "ticks": ""
             }
            },
            "type": "scattercarpet"
           }
          ],
          "scattergeo": [
           {
            "marker": {
             "colorbar": {
              "outlinewidth": 0,
              "ticks": ""
             }
            },
            "type": "scattergeo"
           }
          ],
          "scattergl": [
           {
            "marker": {
             "colorbar": {
              "outlinewidth": 0,
              "ticks": ""
             }
            },
            "type": "scattergl"
           }
          ],
          "scattermapbox": [
           {
            "marker": {
             "colorbar": {
              "outlinewidth": 0,
              "ticks": ""
             }
            },
            "type": "scattermapbox"
           }
          ],
          "scatterpolar": [
           {
            "marker": {
             "colorbar": {
              "outlinewidth": 0,
              "ticks": ""
             }
            },
            "type": "scatterpolar"
           }
          ],
          "scatterpolargl": [
           {
            "marker": {
             "colorbar": {
              "outlinewidth": 0,
              "ticks": ""
             }
            },
            "type": "scatterpolargl"
           }
          ],
          "scatterternary": [
           {
            "marker": {
             "colorbar": {
              "outlinewidth": 0,
              "ticks": ""
             }
            },
            "type": "scatterternary"
           }
          ],
          "surface": [
           {
            "colorbar": {
             "outlinewidth": 0,
             "ticks": ""
            },
            "colorscale": [
             [
              0,
              "#0d0887"
             ],
             [
              0.1111111111111111,
              "#46039f"
             ],
             [
              0.2222222222222222,
              "#7201a8"
             ],
             [
              0.3333333333333333,
              "#9c179e"
             ],
             [
              0.4444444444444444,
              "#bd3786"
             ],
             [
              0.5555555555555556,
              "#d8576b"
             ],
             [
              0.6666666666666666,
              "#ed7953"
             ],
             [
              0.7777777777777778,
              "#fb9f3a"
             ],
             [
              0.8888888888888888,
              "#fdca26"
             ],
             [
              1,
              "#f0f921"
             ]
            ],
            "type": "surface"
           }
          ],
          "table": [
           {
            "cells": {
             "fill": {
              "color": "#EBF0F8"
             },
             "line": {
              "color": "white"
             }
            },
            "header": {
             "fill": {
              "color": "#C8D4E3"
             },
             "line": {
              "color": "white"
             }
            },
            "type": "table"
           }
          ]
         },
         "layout": {
          "annotationdefaults": {
           "arrowcolor": "#2a3f5f",
           "arrowhead": 0,
           "arrowwidth": 1
          },
          "coloraxis": {
           "colorbar": {
            "outlinewidth": 0,
            "ticks": ""
           }
          },
          "colorscale": {
           "diverging": [
            [
             0,
             "#8e0152"
            ],
            [
             0.1,
             "#c51b7d"
            ],
            [
             0.2,
             "#de77ae"
            ],
            [
             0.3,
             "#f1b6da"
            ],
            [
             0.4,
             "#fde0ef"
            ],
            [
             0.5,
             "#f7f7f7"
            ],
            [
             0.6,
             "#e6f5d0"
            ],
            [
             0.7,
             "#b8e186"
            ],
            [
             0.8,
             "#7fbc41"
            ],
            [
             0.9,
             "#4d9221"
            ],
            [
             1,
             "#276419"
            ]
           ],
           "sequential": [
            [
             0,
             "#0d0887"
            ],
            [
             0.1111111111111111,
             "#46039f"
            ],
            [
             0.2222222222222222,
             "#7201a8"
            ],
            [
             0.3333333333333333,
             "#9c179e"
            ],
            [
             0.4444444444444444,
             "#bd3786"
            ],
            [
             0.5555555555555556,
             "#d8576b"
            ],
            [
             0.6666666666666666,
             "#ed7953"
            ],
            [
             0.7777777777777778,
             "#fb9f3a"
            ],
            [
             0.8888888888888888,
             "#fdca26"
            ],
            [
             1,
             "#f0f921"
            ]
           ],
           "sequentialminus": [
            [
             0,
             "#0d0887"
            ],
            [
             0.1111111111111111,
             "#46039f"
            ],
            [
             0.2222222222222222,
             "#7201a8"
            ],
            [
             0.3333333333333333,
             "#9c179e"
            ],
            [
             0.4444444444444444,
             "#bd3786"
            ],
            [
             0.5555555555555556,
             "#d8576b"
            ],
            [
             0.6666666666666666,
             "#ed7953"
            ],
            [
             0.7777777777777778,
             "#fb9f3a"
            ],
            [
             0.8888888888888888,
             "#fdca26"
            ],
            [
             1,
             "#f0f921"
            ]
           ]
          },
          "colorway": [
           "#636efa",
           "#EF553B",
           "#00cc96",
           "#ab63fa",
           "#FFA15A",
           "#19d3f3",
           "#FF6692",
           "#B6E880",
           "#FF97FF",
           "#FECB52"
          ],
          "font": {
           "color": "#2a3f5f"
          },
          "geo": {
           "bgcolor": "white",
           "lakecolor": "white",
           "landcolor": "#E5ECF6",
           "showlakes": true,
           "showland": true,
           "subunitcolor": "white"
          },
          "hoverlabel": {
           "align": "left"
          },
          "hovermode": "closest",
          "mapbox": {
           "style": "light"
          },
          "paper_bgcolor": "white",
          "plot_bgcolor": "#E5ECF6",
          "polar": {
           "angularaxis": {
            "gridcolor": "white",
            "linecolor": "white",
            "ticks": ""
           },
           "bgcolor": "#E5ECF6",
           "radialaxis": {
            "gridcolor": "white",
            "linecolor": "white",
            "ticks": ""
           }
          },
          "scene": {
           "xaxis": {
            "backgroundcolor": "#E5ECF6",
            "gridcolor": "white",
            "gridwidth": 2,
            "linecolor": "white",
            "showbackground": true,
            "ticks": "",
            "zerolinecolor": "white"
           },
           "yaxis": {
            "backgroundcolor": "#E5ECF6",
            "gridcolor": "white",
            "gridwidth": 2,
            "linecolor": "white",
            "showbackground": true,
            "ticks": "",
            "zerolinecolor": "white"
           },
           "zaxis": {
            "backgroundcolor": "#E5ECF6",
            "gridcolor": "white",
            "gridwidth": 2,
            "linecolor": "white",
            "showbackground": true,
            "ticks": "",
            "zerolinecolor": "white"
           }
          },
          "shapedefaults": {
           "line": {
            "color": "#2a3f5f"
           }
          },
          "ternary": {
           "aaxis": {
            "gridcolor": "white",
            "linecolor": "white",
            "ticks": ""
           },
           "baxis": {
            "gridcolor": "white",
            "linecolor": "white",
            "ticks": ""
           },
           "bgcolor": "#E5ECF6",
           "caxis": {
            "gridcolor": "white",
            "linecolor": "white",
            "ticks": ""
           }
          },
          "title": {
           "x": 0.05
          },
          "xaxis": {
           "automargin": true,
           "gridcolor": "white",
           "linecolor": "white",
           "ticks": "",
           "title": {
            "standoff": 15
           },
           "zerolinecolor": "white",
           "zerolinewidth": 2
          },
          "yaxis": {
           "automargin": true,
           "gridcolor": "white",
           "linecolor": "white",
           "ticks": "",
           "title": {
            "standoff": 15
           },
           "zerolinecolor": "white",
           "zerolinewidth": 2
          }
         }
        },
        "title": {
         "text": "Top 50 Genres",
         "x": 0.5,
         "xanchor": "center",
         "y": 0.9,
         "yanchor": "top"
        },
        "xaxis": {
         "anchor": "y",
         "domain": [
          0,
          1
         ],
         "title": {
          "text": "Track Count"
         }
        },
        "yaxis": {
         "anchor": "x",
         "domain": [
          0,
          1
         ],
         "title": {
          "text": "Genre"
         }
        }
       }
      },
      "text/html": [
       "<div>\n",
       "        \n",
       "        \n",
       "            <div id=\"079955f0-4b05-4ab8-9aab-fd5583f838e6\" class=\"plotly-graph-div\" style=\"height:800px; width:100%;\"></div>\n",
       "            <script type=\"text/javascript\">\n",
       "                require([\"plotly\"], function(Plotly) {\n",
       "                    window.PLOTLYENV=window.PLOTLYENV || {};\n",
       "                    \n",
       "                if (document.getElementById(\"079955f0-4b05-4ab8-9aab-fd5583f838e6\")) {\n",
       "                    Plotly.newPlot(\n",
       "                        '079955f0-4b05-4ab8-9aab-fd5583f838e6',\n",
       "                        [{\"alignmentgroup\": \"True\", \"customdata\": [[1173, \" Rock\"], [1135, \" Dance Pop\"], [1126, \" Pop\"], [1004, \" Electro House\"], [994, \" Indie Folk\"], [986, \" Indie Rock\"], [971, \" Hip Hop\"], [962, \" Latin\"], [927, \" Pop Rap\"], [926, \" Rap\"], [895, \" Indie Pop\"], [888, \" French Hip Hop\"], [885, \" Modern Rock\"], [881, \" Classical Performance\"], [872, \" Indie R&B\"], [859, \" Latin Rock\"], [838, \" Indie Poptimism\"], [837, \" German Hip Hop\"], [833, \" Indietronica\"], [825, \" Chamber Pop\"], [819, \" Tropical\"], [815, \" Pop Rock\"], [812, \" Electropop\"], [808, \" Anthem Worship\"], [799, \" Sleep\"], [796, \" Country Rock\"], [796, \" German Rock\"], [795, \" Roots Rock\"], [788, \" Funk\"], [786, \" Folk Rock\"], [782, \" Art Pop\"], [777, \" Urban Contemporary\"], [768, \" Underground Hip Hop\"], [758, \" Background Music\"], [756, \" Dutch Hip Hop\"], [754, \" Modern Alternative Rock\"], [751, \" K-Pop\"], [745, \" Europop\"], [739, \" Tropical House\"], [734, \" Filmi\"], [732, \" Progressive House\"], [732, \" Rock en Espa\\u00f1ol\"], [730, \" Indie Electropop\"], [725, \" Forr\\u00f3\"], [724, \" UK Hip Hop\"], [719, \" Trap\"], [716, \" New Wave Pop\"], [711, \" Folk\"], [708, \" Freak Folk\"], [707, \" Stomp and Holler\"]], \"hovertemplate\": \"Track Count=%{marker.color}<br>Genre=%{customdata[1]}<extra></extra>\", \"legendgroup\": \"\", \"marker\": {\"color\": [1173, 1135, 1126, 1004, 994, 986, 971, 962, 927, 926, 895, 888, 885, 881, 872, 859, 838, 837, 833, 825, 819, 815, 812, 808, 799, 796, 796, 795, 788, 786, 782, 777, 768, 758, 756, 754, 751, 745, 739, 734, 732, 732, 730, 725, 724, 719, 716, 711, 708, 707], \"coloraxis\": \"coloraxis\"}, \"name\": \"\", \"offsetgroup\": \"\", \"orientation\": \"h\", \"showlegend\": false, \"textposition\": \"auto\", \"type\": \"bar\", \"x\": [1173, 1135, 1126, 1004, 994, 986, 971, 962, 927, 926, 895, 888, 885, 881, 872, 859, 838, 837, 833, 825, 819, 815, 812, 808, 799, 796, 796, 795, 788, 786, 782, 777, 768, 758, 756, 754, 751, 745, 739, 734, 732, 732, 730, 725, 724, 719, 716, 711, 708, 707], \"xaxis\": \"x\", \"y\": [\" Rock\", \" Dance Pop\", \" Pop\", \" Electro House\", \" Indie Folk\", \" Indie Rock\", \" Hip Hop\", \" Latin\", \" Pop Rap\", \" Rap\", \" Indie Pop\", \" French Hip Hop\", \" Modern Rock\", \" Classical Performance\", \" Indie R&B\", \" Latin Rock\", \" Indie Poptimism\", \" German Hip Hop\", \" Indietronica\", \" Chamber Pop\", \" Tropical\", \" Pop Rock\", \" Electropop\", \" Anthem Worship\", \" Sleep\", \" Country Rock\", \" German Rock\", \" Roots Rock\", \" Funk\", \" Folk Rock\", \" Art Pop\", \" Urban Contemporary\", \" Underground Hip Hop\", \" Background Music\", \" Dutch Hip Hop\", \" Modern Alternative Rock\", \" K-Pop\", \" Europop\", \" Tropical House\", \" Filmi\", \" Progressive House\", \" Rock en Espa\\u00f1ol\", \" Indie Electropop\", \" Forr\\u00f3\", \" UK Hip Hop\", \" Trap\", \" New Wave Pop\", \" Folk\", \" Freak Folk\", \" Stomp and Holler\"], \"yaxis\": \"y\"}],\n",
       "                        {\"barmode\": \"relative\", \"coloraxis\": {\"colorbar\": {\"title\": {\"text\": \"Track Count\"}}, \"colorscale\": [[0.0, \"#0d0887\"], [0.1111111111111111, \"#46039f\"], [0.2222222222222222, \"#7201a8\"], [0.3333333333333333, \"#9c179e\"], [0.4444444444444444, \"#bd3786\"], [0.5555555555555556, \"#d8576b\"], [0.6666666666666666, \"#ed7953\"], [0.7777777777777778, \"#fb9f3a\"], [0.8888888888888888, \"#fdca26\"], [1.0, \"#f0f921\"]]}, \"height\": 800, \"legend\": {\"tracegroupgap\": 0}, \"template\": {\"data\": {\"bar\": [{\"error_x\": {\"color\": \"#2a3f5f\"}, \"error_y\": {\"color\": \"#2a3f5f\"}, \"marker\": {\"line\": {\"color\": \"#E5ECF6\", \"width\": 0.5}}, \"type\": \"bar\"}], \"barpolar\": [{\"marker\": {\"line\": {\"color\": \"#E5ECF6\", \"width\": 0.5}}, \"type\": \"barpolar\"}], \"carpet\": [{\"aaxis\": {\"endlinecolor\": \"#2a3f5f\", \"gridcolor\": \"white\", \"linecolor\": \"white\", \"minorgridcolor\": \"white\", \"startlinecolor\": \"#2a3f5f\"}, \"baxis\": {\"endlinecolor\": \"#2a3f5f\", \"gridcolor\": \"white\", \"linecolor\": \"white\", \"minorgridcolor\": \"white\", \"startlinecolor\": \"#2a3f5f\"}, \"type\": \"carpet\"}], \"choropleth\": [{\"colorbar\": {\"outlinewidth\": 0, \"ticks\": \"\"}, \"type\": \"choropleth\"}], \"contour\": [{\"colorbar\": {\"outlinewidth\": 0, \"ticks\": \"\"}, \"colorscale\": [[0.0, \"#0d0887\"], [0.1111111111111111, \"#46039f\"], [0.2222222222222222, \"#7201a8\"], [0.3333333333333333, \"#9c179e\"], [0.4444444444444444, \"#bd3786\"], [0.5555555555555556, \"#d8576b\"], [0.6666666666666666, \"#ed7953\"], [0.7777777777777778, \"#fb9f3a\"], [0.8888888888888888, \"#fdca26\"], [1.0, \"#f0f921\"]], \"type\": \"contour\"}], \"contourcarpet\": [{\"colorbar\": {\"outlinewidth\": 0, \"ticks\": \"\"}, \"type\": \"contourcarpet\"}], \"heatmap\": [{\"colorbar\": {\"outlinewidth\": 0, \"ticks\": \"\"}, \"colorscale\": [[0.0, \"#0d0887\"], [0.1111111111111111, \"#46039f\"], [0.2222222222222222, \"#7201a8\"], [0.3333333333333333, \"#9c179e\"], [0.4444444444444444, \"#bd3786\"], [0.5555555555555556, \"#d8576b\"], [0.6666666666666666, \"#ed7953\"], [0.7777777777777778, \"#fb9f3a\"], [0.8888888888888888, \"#fdca26\"], [1.0, \"#f0f921\"]], \"type\": \"heatmap\"}], \"heatmapgl\": [{\"colorbar\": {\"outlinewidth\": 0, \"ticks\": \"\"}, \"colorscale\": [[0.0, \"#0d0887\"], [0.1111111111111111, \"#46039f\"], [0.2222222222222222, \"#7201a8\"], [0.3333333333333333, \"#9c179e\"], [0.4444444444444444, \"#bd3786\"], [0.5555555555555556, \"#d8576b\"], [0.6666666666666666, \"#ed7953\"], [0.7777777777777778, \"#fb9f3a\"], [0.8888888888888888, \"#fdca26\"], [1.0, \"#f0f921\"]], \"type\": \"heatmapgl\"}], \"histogram\": [{\"marker\": {\"colorbar\": {\"outlinewidth\": 0, \"ticks\": \"\"}}, \"type\": \"histogram\"}], \"histogram2d\": [{\"colorbar\": {\"outlinewidth\": 0, \"ticks\": \"\"}, \"colorscale\": [[0.0, \"#0d0887\"], [0.1111111111111111, \"#46039f\"], [0.2222222222222222, \"#7201a8\"], [0.3333333333333333, \"#9c179e\"], [0.4444444444444444, \"#bd3786\"], [0.5555555555555556, \"#d8576b\"], [0.6666666666666666, \"#ed7953\"], [0.7777777777777778, \"#fb9f3a\"], [0.8888888888888888, \"#fdca26\"], [1.0, \"#f0f921\"]], \"type\": \"histogram2d\"}], \"histogram2dcontour\": [{\"colorbar\": {\"outlinewidth\": 0, \"ticks\": \"\"}, \"colorscale\": [[0.0, \"#0d0887\"], [0.1111111111111111, \"#46039f\"], [0.2222222222222222, \"#7201a8\"], [0.3333333333333333, \"#9c179e\"], [0.4444444444444444, \"#bd3786\"], [0.5555555555555556, \"#d8576b\"], [0.6666666666666666, \"#ed7953\"], [0.7777777777777778, \"#fb9f3a\"], [0.8888888888888888, \"#fdca26\"], [1.0, \"#f0f921\"]], \"type\": \"histogram2dcontour\"}], \"mesh3d\": [{\"colorbar\": {\"outlinewidth\": 0, \"ticks\": \"\"}, \"type\": \"mesh3d\"}], \"parcoords\": [{\"line\": {\"colorbar\": {\"outlinewidth\": 0, \"ticks\": \"\"}}, \"type\": \"parcoords\"}], \"pie\": [{\"automargin\": true, \"type\": \"pie\"}], \"scatter\": [{\"marker\": {\"colorbar\": {\"outlinewidth\": 0, \"ticks\": \"\"}}, \"type\": \"scatter\"}], \"scatter3d\": [{\"line\": {\"colorbar\": {\"outlinewidth\": 0, \"ticks\": \"\"}}, \"marker\": {\"colorbar\": {\"outlinewidth\": 0, \"ticks\": \"\"}}, \"type\": \"scatter3d\"}], \"scattercarpet\": [{\"marker\": {\"colorbar\": {\"outlinewidth\": 0, \"ticks\": \"\"}}, \"type\": \"scattercarpet\"}], \"scattergeo\": [{\"marker\": {\"colorbar\": {\"outlinewidth\": 0, \"ticks\": \"\"}}, \"type\": \"scattergeo\"}], \"scattergl\": [{\"marker\": {\"colorbar\": {\"outlinewidth\": 0, \"ticks\": \"\"}}, \"type\": \"scattergl\"}], \"scattermapbox\": [{\"marker\": {\"colorbar\": {\"outlinewidth\": 0, \"ticks\": \"\"}}, \"type\": \"scattermapbox\"}], \"scatterpolar\": [{\"marker\": {\"colorbar\": {\"outlinewidth\": 0, \"ticks\": \"\"}}, \"type\": \"scatterpolar\"}], \"scatterpolargl\": [{\"marker\": {\"colorbar\": {\"outlinewidth\": 0, \"ticks\": \"\"}}, \"type\": \"scatterpolargl\"}], \"scatterternary\": [{\"marker\": {\"colorbar\": {\"outlinewidth\": 0, \"ticks\": \"\"}}, \"type\": \"scatterternary\"}], \"surface\": [{\"colorbar\": {\"outlinewidth\": 0, \"ticks\": \"\"}, \"colorscale\": [[0.0, \"#0d0887\"], [0.1111111111111111, \"#46039f\"], [0.2222222222222222, \"#7201a8\"], [0.3333333333333333, \"#9c179e\"], [0.4444444444444444, \"#bd3786\"], [0.5555555555555556, \"#d8576b\"], [0.6666666666666666, \"#ed7953\"], [0.7777777777777778, \"#fb9f3a\"], [0.8888888888888888, \"#fdca26\"], [1.0, \"#f0f921\"]], \"type\": \"surface\"}], \"table\": [{\"cells\": {\"fill\": {\"color\": \"#EBF0F8\"}, \"line\": {\"color\": \"white\"}}, \"header\": {\"fill\": {\"color\": \"#C8D4E3\"}, \"line\": {\"color\": \"white\"}}, \"type\": \"table\"}]}, \"layout\": {\"annotationdefaults\": {\"arrowcolor\": \"#2a3f5f\", \"arrowhead\": 0, \"arrowwidth\": 1}, \"coloraxis\": {\"colorbar\": {\"outlinewidth\": 0, \"ticks\": \"\"}}, \"colorscale\": {\"diverging\": [[0, \"#8e0152\"], [0.1, \"#c51b7d\"], [0.2, \"#de77ae\"], [0.3, \"#f1b6da\"], [0.4, \"#fde0ef\"], [0.5, \"#f7f7f7\"], [0.6, \"#e6f5d0\"], [0.7, \"#b8e186\"], [0.8, \"#7fbc41\"], [0.9, \"#4d9221\"], [1, \"#276419\"]], \"sequential\": [[0.0, \"#0d0887\"], [0.1111111111111111, \"#46039f\"], [0.2222222222222222, \"#7201a8\"], [0.3333333333333333, \"#9c179e\"], [0.4444444444444444, \"#bd3786\"], [0.5555555555555556, \"#d8576b\"], [0.6666666666666666, \"#ed7953\"], [0.7777777777777778, \"#fb9f3a\"], [0.8888888888888888, \"#fdca26\"], [1.0, \"#f0f921\"]], \"sequentialminus\": [[0.0, \"#0d0887\"], [0.1111111111111111, \"#46039f\"], [0.2222222222222222, \"#7201a8\"], [0.3333333333333333, \"#9c179e\"], [0.4444444444444444, \"#bd3786\"], [0.5555555555555556, \"#d8576b\"], [0.6666666666666666, \"#ed7953\"], [0.7777777777777778, \"#fb9f3a\"], [0.8888888888888888, \"#fdca26\"], [1.0, \"#f0f921\"]]}, \"colorway\": [\"#636efa\", \"#EF553B\", \"#00cc96\", \"#ab63fa\", \"#FFA15A\", \"#19d3f3\", \"#FF6692\", \"#B6E880\", \"#FF97FF\", \"#FECB52\"], \"font\": {\"color\": \"#2a3f5f\"}, \"geo\": {\"bgcolor\": \"white\", \"lakecolor\": \"white\", \"landcolor\": \"#E5ECF6\", \"showlakes\": true, \"showland\": true, \"subunitcolor\": \"white\"}, \"hoverlabel\": {\"align\": \"left\"}, \"hovermode\": \"closest\", \"mapbox\": {\"style\": \"light\"}, \"paper_bgcolor\": \"white\", \"plot_bgcolor\": \"#E5ECF6\", \"polar\": {\"angularaxis\": {\"gridcolor\": \"white\", \"linecolor\": \"white\", \"ticks\": \"\"}, \"bgcolor\": \"#E5ECF6\", \"radialaxis\": {\"gridcolor\": \"white\", \"linecolor\": \"white\", \"ticks\": \"\"}}, \"scene\": {\"xaxis\": {\"backgroundcolor\": \"#E5ECF6\", \"gridcolor\": \"white\", \"gridwidth\": 2, \"linecolor\": \"white\", \"showbackground\": true, \"ticks\": \"\", \"zerolinecolor\": \"white\"}, \"yaxis\": {\"backgroundcolor\": \"#E5ECF6\", \"gridcolor\": \"white\", \"gridwidth\": 2, \"linecolor\": \"white\", \"showbackground\": true, \"ticks\": \"\", \"zerolinecolor\": \"white\"}, \"zaxis\": {\"backgroundcolor\": \"#E5ECF6\", \"gridcolor\": \"white\", \"gridwidth\": 2, \"linecolor\": \"white\", \"showbackground\": true, \"ticks\": \"\", \"zerolinecolor\": \"white\"}}, \"shapedefaults\": {\"line\": {\"color\": \"#2a3f5f\"}}, \"ternary\": {\"aaxis\": {\"gridcolor\": \"white\", \"linecolor\": \"white\", \"ticks\": \"\"}, \"baxis\": {\"gridcolor\": \"white\", \"linecolor\": \"white\", \"ticks\": \"\"}, \"bgcolor\": \"#E5ECF6\", \"caxis\": {\"gridcolor\": \"white\", \"linecolor\": \"white\", \"ticks\": \"\"}}, \"title\": {\"x\": 0.05}, \"xaxis\": {\"automargin\": true, \"gridcolor\": \"white\", \"linecolor\": \"white\", \"ticks\": \"\", \"title\": {\"standoff\": 15}, \"zerolinecolor\": \"white\", \"zerolinewidth\": 2}, \"yaxis\": {\"automargin\": true, \"gridcolor\": \"white\", \"linecolor\": \"white\", \"ticks\": \"\", \"title\": {\"standoff\": 15}, \"zerolinecolor\": \"white\", \"zerolinewidth\": 2}}}, \"title\": {\"text\": \"Top 50 Genres\", \"x\": 0.5, \"xanchor\": \"center\", \"y\": 0.9, \"yanchor\": \"top\"}, \"xaxis\": {\"anchor\": \"y\", \"domain\": [0.0, 1.0], \"title\": {\"text\": \"Track Count\"}}, \"yaxis\": {\"anchor\": \"x\", \"domain\": [0.0, 1.0], \"title\": {\"text\": \"Genre\"}}},\n",
       "                        {\"responsive\": true}\n",
       "                    ).then(function(){\n",
       "                            \n",
       "var gd = document.getElementById('079955f0-4b05-4ab8-9aab-fd5583f838e6');\n",
       "var x = new MutationObserver(function (mutations, observer) {{\n",
       "        var display = window.getComputedStyle(gd).display;\n",
       "        if (!display || display === 'none') {{\n",
       "            console.log([gd, 'removed!']);\n",
       "            Plotly.purge(gd);\n",
       "            observer.disconnect();\n",
       "        }}\n",
       "}});\n",
       "\n",
       "// Listen for the removal of the full notebook cells\n",
       "var notebookContainer = gd.closest('#notebook-container');\n",
       "if (notebookContainer) {{\n",
       "    x.observe(notebookContainer, {childList: true});\n",
       "}}\n",
       "\n",
       "// Listen for the clearing of the current output cell\n",
       "var outputEl = gd.closest('.output');\n",
       "if (outputEl) {{\n",
       "    x.observe(outputEl, {childList: true});\n",
       "}}\n",
       "\n",
       "                        })\n",
       "                };\n",
       "                });\n",
       "            </script>\n",
       "        </div>"
      ]
     },
     "metadata": {},
     "output_type": "display_data"
    }
   ],
   "source": [
    "fig = px.bar(genre_counts.nlargest(n=50, columns=['Track Count']), x='Track Count', y='Genre',\n",
    "             hover_data=['Track Count', 'Genre'], color='Track Count', orientation='h',\n",
    "             labels={'Genre': 'Genre', 'Track Count':'Track Count'}, \n",
    "             title={'text': \"Top 50 Genres\", 'y':0.9, 'x':0.5, 'xanchor': 'center', 'yanchor': 'top'}, \n",
    "             height=800)\n",
    "fig.show()"
   ]
  },
  {
   "cell_type": "code",
   "execution_count": 18,
   "metadata": {},
   "outputs": [
    {
     "data": {
      "text/html": [
       "<div>\n",
       "<style scoped>\n",
       "    .dataframe tbody tr th:only-of-type {\n",
       "        vertical-align: middle;\n",
       "    }\n",
       "\n",
       "    .dataframe tbody tr th {\n",
       "        vertical-align: top;\n",
       "    }\n",
       "\n",
       "    .dataframe thead th {\n",
       "        text-align: right;\n",
       "    }\n",
       "</style>\n",
       "<table border=\"1\" class=\"dataframe\">\n",
       "  <thead>\n",
       "    <tr style=\"text-align: right;\">\n",
       "      <th></th>\n",
       "      <th>Genre</th>\n",
       "      <th>Track Count</th>\n",
       "    </tr>\n",
       "  </thead>\n",
       "  <tbody>\n",
       "    <tr>\n",
       "      <th>3601</th>\n",
       "      <td>Saint Lucia</td>\n",
       "      <td>5</td>\n",
       "    </tr>\n",
       "    <tr>\n",
       "      <th>3600</th>\n",
       "      <td>Saint-Martin</td>\n",
       "      <td>11</td>\n",
       "    </tr>\n",
       "    <tr>\n",
       "      <th>3599</th>\n",
       "      <td>Animal Singing</td>\n",
       "      <td>27</td>\n",
       "    </tr>\n",
       "    <tr>\n",
       "      <th>3598</th>\n",
       "      <td>Spanish Classical</td>\n",
       "      <td>32</td>\n",
       "    </tr>\n",
       "    <tr>\n",
       "      <th>3597</th>\n",
       "      <td>Congo (Kinshasa)</td>\n",
       "      <td>37</td>\n",
       "    </tr>\n",
       "    <tr>\n",
       "      <th>...</th>\n",
       "      <td>...</td>\n",
       "      <td>...</td>\n",
       "    </tr>\n",
       "    <tr>\n",
       "      <th>4</th>\n",
       "      <td>Indie Folk</td>\n",
       "      <td>994</td>\n",
       "    </tr>\n",
       "    <tr>\n",
       "      <th>3</th>\n",
       "      <td>Electro House</td>\n",
       "      <td>1004</td>\n",
       "    </tr>\n",
       "    <tr>\n",
       "      <th>2</th>\n",
       "      <td>Pop</td>\n",
       "      <td>1126</td>\n",
       "    </tr>\n",
       "    <tr>\n",
       "      <th>1</th>\n",
       "      <td>Dance Pop</td>\n",
       "      <td>1135</td>\n",
       "    </tr>\n",
       "    <tr>\n",
       "      <th>0</th>\n",
       "      <td>Rock</td>\n",
       "      <td>1173</td>\n",
       "    </tr>\n",
       "  </tbody>\n",
       "</table>\n",
       "<p>3602 rows × 2 columns</p>\n",
       "</div>"
      ],
      "text/plain": [
       "                   Genre  Track Count\n",
       "3601         Saint Lucia            5\n",
       "3600        Saint-Martin           11\n",
       "3599      Animal Singing           27\n",
       "3598   Spanish Classical           32\n",
       "3597    Congo (Kinshasa)           37\n",
       "...                  ...          ...\n",
       "4             Indie Folk          994\n",
       "3          Electro House         1004\n",
       "2                    Pop         1126\n",
       "1              Dance Pop         1135\n",
       "0                   Rock         1173\n",
       "\n",
       "[3602 rows x 2 columns]"
      ]
     },
     "execution_count": 18,
     "metadata": {},
     "output_type": "execute_result"
    }
   ],
   "source": [
    "genre_counts.sort_values(by='Track Count')"
   ]
  },
  {
   "cell_type": "code",
   "execution_count": null,
   "metadata": {},
   "outputs": [],
   "source": []
  }
 ],
 "metadata": {
  "kernelspec": {
   "display_name": "Python 3",
   "language": "python",
   "name": "python3"
  },
  "language_info": {
   "codemirror_mode": {
    "name": "ipython",
    "version": 3
   },
   "file_extension": ".py",
   "mimetype": "text/x-python",
   "name": "python",
   "nbconvert_exporter": "python",
   "pygments_lexer": "ipython3",
   "version": "3.7.7"
  }
 },
 "nbformat": 4,
 "nbformat_minor": 4
}
